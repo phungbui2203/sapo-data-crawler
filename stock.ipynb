{
 "cells": [
  {
   "cell_type": "code",
   "id": "initial_id",
   "metadata": {
    "collapsed": true,
    "ExecuteTime": {
     "end_time": "2024-09-24T13:14:07.734170Z",
     "start_time": "2024-09-24T13:14:07.053419Z"
    }
   },
   "source": [
    "import requests\n",
    "import pandas as pd\n",
    "import json\n",
    "from datetime import datetime"
   ],
   "outputs": [],
   "execution_count": 1
  },
  {
   "metadata": {
    "ExecuteTime": {
     "end_time": "2024-09-24T13:14:08.317248Z",
     "start_time": "2024-09-24T13:14:07.762177Z"
    }
   },
   "cell_type": "code",
   "source": [
    "url = \"https://beanyfood.mysapogo.com/admin/stock_transfers.json?page=1&limit=20\"\n",
    "cookie = \"report_ver=3; _fw_crm_v=2861336f-94de-4be5-ec8a-7fa035b27646; _fbp=fb.1.1722054266002.361545149807384444; _hjSessionUser_1081489=eyJpZCI6IjY5MTBjMDYxLTZiMTYtNTNlYy1iZDNhLTEwYjhjMDUxMzFkMCIsImNyZWF0ZWQiOjE3MjIwNzQwODA1OTksImV4aXN0aW5nIjp0cnVlfQ==; _gid=GA1.2.1281807505.1727183385; _gat_gtag_UA_66880228_3=1; sapo-admin=CfDJ8DA1016STPdNrAaTdK2HgWc5ryW-K_oBZ6EN2A24GF_Hl8jwZ1TqUCd1BKIAbbkF4mJtFGm5Ygap4Bd0g5TY0SmmO_kzxpg1dRulsc5CU1rPChtsLs2QBcPaUdmsAUo7N7DH1hGmOgfd0g_TpvwfJ-PVUvRep8MFZvTx2Gtj8d35fazhHGw2AuK4vpM8GPFBY9lyUY_485AunJ6PFK0yQnsw5N6sdCiPLgn1qmvbYGP9hvqTKBzhsdbSimmv8hw5UYywRJdBhUk_Dkj0Gwiai6juvQ6YL479BY0Q0atLVOnylrCD_Jat_y0A5B5CJV4LOOgMD8jslY5R6-GZmqRREarsWhbQ31s-D9N8Ec5GBgTJEqdaKwxFGyTvMSinLK4PbNcVemx0QHRM75t7twAPZz3yDQ2awhPgc2N7im_D4-kbriVPxlTWnVZhv1BJc9ePNAPYB1s-CYkVnlzSwl2HieGLxnflg6_yHHcyCX1li2qcO2huq7kPFTmTW3Xa5fMe7pqyHOlzIhfcKxxUA73LCA_VMUPXfn66dBHRULtfzZbYs97kWdvPPoiVcrTmqv4M7h9xRb1ShPdG6kKJ9T5IKZ3nheAGRde69i5PPtPTKLaEbqqjNmR_ilvY80uQ1hE7PMaLPdmCTsWX05F4vl42z0iuUtCDnmHB7l61DHJQmb56MNUpV2mpdHoEFBbHaakRaPB0fkq7LshlUtK6pONeIcCW9GwtQCXo-IdKv2w_mFCLOyEYFMuSJgRzX47Zw2-Ijg; lang=vi; _admin_session_id=df2d968a-adfb-7d59-9268-dfa2e14d5b7a; .AspNetCore.Session=CfDJ8DA1016STPdNrAaTdK2HgWcyXOnZjncFf8zRNY3yIFenTzg7IuxvEf8T2s9e4%2BBT71fqjOJLJ%2FKEm3yraZlBbcXJAnsl3WNfs36Mv8xxgz9Mn590ff3tPL38nvXXd7mvoiUkNFRyIrxF9%2FkWPIsiq7xRjWyASA1q61OaSR9tC9Aj; _ga_4NX0F91DEX=GS1.1.1727183385.57.1.1727183386.0.0.0; _ga=GA1.1.415576317.1707995805; _ga_Z1V9QDBF2Q=GS1.1.1727183385.60.1.1727183386.0.0.0\"\n",
    "payload = {}\n",
    "headers = {\n",
    "  'Accept': 'application/json, text/plain, */*',\n",
    "  'Accept-Language': 'vi',\n",
    "  'Connection': 'keep-alive',\n",
    "  'Cookie': cookie,\n",
    "  'Referer': 'https://beanyfood.mysapogo.com/admin/stock_transfers.json?page=1&limit=20',\n",
    "  'Sec-Fetch-Dest': 'empty',\n",
    "  'Sec-Fetch-Mode': 'cors',\n",
    "  'Sec-Fetch-Site': 'same-origin',\n",
    "  'User-Agent': 'Mozilla/5.0 (Windows NT 10.0; Win64; x64) AppleWebKit/537.36 (KHTML, like Gecko) Chrome/128.0.0.0 Safari/537.36',\n",
    "  'X-Sapo-Client': 'sapo-frontend-v3',\n",
    "  'X-Sapo-ServiceId': 'sapo-frontend-v3',\n",
    "  'sec-ch-ua': '\"Chromium\";v=\"128\", \"Not;A=Brand\";v=\"24\", \"Google Chrome\";v=\"128\"',\n",
    "  'sec-ch-ua-mobile': '?0',\n",
    "  'sec-ch-ua-platform': '\"Windows\"'\n",
    "}\n",
    "\n",
    "response = requests.request(\"GET\", url, headers=headers, data=payload)"
   ],
   "id": "a9a50769f9a52a91",
   "outputs": [],
   "execution_count": 2
  },
  {
   "metadata": {},
   "cell_type": "code",
   "outputs": [],
   "execution_count": null,
   "source": "data = json.loads(response.text)",
   "id": "8b7237cc95150caf"
  },
  {
   "metadata": {},
   "cell_type": "code",
   "outputs": [],
   "execution_count": null,
   "source": [
    "for stock_transfers in data['stock_transfers']:\n",
    "    created_on = stock_transfers['created_on']\n",
    "    code = stock_transfers['code']\n",
    "    for line_item in stock_transfers['line_items']:\n",
    "        lots_dates = line_item[\"lots_dates\"]\n",
    "        for lots_date in lots_dates:\n",
    "            lots_number = lots_date[\"lots_number\"]\n",
    "            manufacture_date = lots_date[\"manufacture_date\"]\n",
    "            expiration_date = lots_date[\"expiration_date\"]\n",
    "            type_st = \"CHUYỂN\"\n",
    "            quantity = lots_date[\"quantity\"]\n",
    "            "
   ],
   "id": "c7ca8150c93152a4"
  }
 ],
 "metadata": {
  "kernelspec": {
   "display_name": "Python 3",
   "language": "python",
   "name": "python3"
  },
  "language_info": {
   "codemirror_mode": {
    "name": "ipython",
    "version": 2
   },
   "file_extension": ".py",
   "mimetype": "text/x-python",
   "name": "python",
   "nbconvert_exporter": "python",
   "pygments_lexer": "ipython2",
   "version": "2.7.6"
  }
 },
 "nbformat": 4,
 "nbformat_minor": 5
}
