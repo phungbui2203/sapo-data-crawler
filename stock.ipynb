{
 "cells": [
  {
   "cell_type": "code",
   "id": "initial_id",
   "metadata": {
    "collapsed": true,
    "ExecuteTime": {
     "end_time": "2024-09-27T15:40:38.901949Z",
     "start_time": "2024-09-27T15:40:38.866459Z"
    }
   },
   "source": [
    "import requests\n",
    "import pandas as pd\n",
    "import json\n",
    "from datetime import datetime"
   ],
   "outputs": [],
   "execution_count": 83
  },
  {
   "metadata": {
    "ExecuteTime": {
     "end_time": "2024-09-27T15:40:39.317984Z",
     "start_time": "2024-09-27T15:40:39.306190Z"
    }
   },
   "cell_type": "code",
   "source": "cookies = 'report_ver=3; _fw_crm_v=b03a9b5b-9cdb-4d81-ab85-c51c8076a2ee; _fbp=fb.1.1722010576000.953081039792325240; _gid=GA1.2.241215532.1727445736; _gat_gtag_UA_66880228_3=1; sapo-admin=CfDJ8DA1016STPdNrAaTdK2HgWcOvQq3cBLWhNWAMA8IKlwPAzqHaDKJIUybgJMAUxEEADpxFQiU-5OmIZ8auRs0G1kvGKe-_j1OTvR2uF-uFrK6XaAxM7knZ0Mg8prpERErLNvaZrRwHZ4ECVk80Bf0nj0vcq7wN9_QTvbiqd9K6kmAIndG36OcN7TQN1Xy9spiqvNTh271rZK0vytCUBzGdQk6Ee8OJK7VwOM3RVIZvehWYBp99LztSrUF4UQ0m4IrFnAUa5tcGPudK42oexnr4VVg6rpmhDzxWEfpPcZ0BhznOvMg3x9yLy-rHPh28JN4OJgvs4M4-oQc8h60daI7HGbhs-Xa2nrRzciVC4WN_3Y8yv7lpAfGI01QhqvKXztmoP5TDKduMsY_zdKb7Q-8vwe3iTuG43ezhz_S3Bwy6EkzH6Rqdetajp3okorpYkrqLWCEEBNpxMsjRFIuUHx8y6km7pse9Yv9dZy9tGtCmcHc3oTT7mhO13iVvbuiEmjUMmn5412Es2cLN6HD8kV6EuUChmgQZt2qHJ9DVVUnnCFkJAIscj8--yiEgzArLM9Tvkxhe8zh8by46uxkQOa858ZvMGwog8SdzZuqdgP0fUP5MLdcNJDrvCPLogVHAUcB7g; lang=vi; _admin_session_id=cd1b50f2-7bb3-63c1-7603-a2cb9f3689ee; .AspNetCore.Session=CfDJ8DA1016STPdNrAaTdK2HgWcAQKOHjaPuMKuhR8GIl0wrnb%2B5%2BFQJnhUHcA0CkYqSlI%2Bx18o7HdHSWRrgfjXundNAfqnNaMc%2ByNgrfDnZPyXzUlNethq5uIgQKNi7dl6%2By4YzOKmFZjBZX4BBCbjRYe28kfqYxslMSf6LsIeLKhlW; _ga_4NX0F91DEX=GS1.1.1727445735.53.1.1727445737.0.0.0; _ga=GA1.1.1357561029.1697356741; _ga_Z1V9QDBF2Q=GS1.1.1727445735.53.1.1727445737.0.0.0'",
   "id": "2801adb4ed9000b7",
   "outputs": [],
   "execution_count": 84
  },
  {
   "metadata": {
    "ExecuteTime": {
     "end_time": "2024-09-27T15:40:40.284409Z",
     "start_time": "2024-09-27T15:40:39.951925Z"
    }
   },
   "cell_type": "code",
   "source": [
    "url = \"https://beanyfood.mysapogo.com/admin/stock_transfers.json?page=1&limit=20\"\n",
    "payload = {}\n",
    "headers = {\n",
    "  'Accept': 'application/json, text/plain, */*',\n",
    "  'Accept-Language': 'vi',\n",
    "  'Connection': 'keep-alive',\n",
    "  'Cookie': cookies,\n",
    "  'Referer': 'https://beanyfood.mysapogo.com/admin/stock_transfers.json?page=1&limit=20',\n",
    "  'Sec-Fetch-Dest': 'empty',\n",
    "  'Sec-Fetch-Mode': 'cors',\n",
    "  'Sec-Fetch-Site': 'same-origin',\n",
    "  'User-Agent': 'Mozilla/5.0 (Windows NT 10.0; Win64; x64) AppleWebKit/537.36 (KHTML, like Gecko) Chrome/128.0.0.0 Safari/537.36',\n",
    "  'X-Sapo-Client': 'sapo-frontend-v3',\n",
    "  'X-Sapo-ServiceId': 'sapo-frontend-v3',\n",
    "  'sec-ch-ua': '\"Chromium\";v=\"128\", \"Not;A=Brand\";v=\"24\", \"Google Chrome\";v=\"128\"',\n",
    "  'sec-ch-ua-mobile': '?0',\n",
    "  'sec-ch-ua-platform': '\"Windows\"'\n",
    "}\n",
    "\n",
    "response = requests.request(\"GET\", url, headers=headers, data=payload)"
   ],
   "id": "a9a50769f9a52a91",
   "outputs": [],
   "execution_count": 85
  },
  {
   "metadata": {
    "ExecuteTime": {
     "end_time": "2024-09-27T15:40:40.536197Z",
     "start_time": "2024-09-27T15:40:40.523274Z"
    }
   },
   "cell_type": "code",
   "source": [
    "def get_product_name_sku_unit(variant_id: int) -> (str, str, str):\n",
    "    product_url = f\"https://beanyfood.mysapogo.com/admin/variants/search.json?ids={variant_id}&status=active%2Cinactive%2Cdeleted&page=1&limit=200\"\n",
    "    product_payload = {}\n",
    "    product_headers = {\n",
    "      'Accept': 'application/json, text/plain, */*',\n",
    "      'Accept-Language': 'vi',\n",
    "      'Connection': 'keep-alive',\n",
    "      'Cookie': cookies,\n",
    "      'Sec-Fetch-Dest': 'empty',\n",
    "      'Sec-Fetch-Mode': 'cors',\n",
    "      'Sec-Fetch-Site': 'same-origin',\n",
    "      'User-Agent': 'Mozilla/5.0 (Windows NT 10.0; Win64; x64) AppleWebKit/537.36 (KHTML, like Gecko) Chrome/129.0.0.0 Safari/537.36',\n",
    "      'X-Sapo-Client': 'sapo-frontend-v3',\n",
    "      'X-Sapo-ServiceId': 'sapo-frontend-v3',\n",
    "      'sec-ch-ua': '\"Google Chrome\";v=\"129\", \"Not=A?Brand\";v=\"8\", \"Chromium\";v=\"129\"',\n",
    "      'sec-ch-ua-mobile': '?0',\n",
    "      'sec-ch-ua-platform': '\"Windows\"'\n",
    "    }\n",
    "    \n",
    "    product_response = requests.request(\"GET\", product_url, headers=product_headers, data=product_payload)\n",
    "    product_data = json.loads(product_response.text)\n",
    "    product_name = product_data[\"variants\"][0][\"name\"]\n",
    "    product_sku = product_data[\"variants\"][0][\"sku\"]\n",
    "    product_unit = product_data[\"variants\"][0][\"unit\"]\n",
    "    return product_name, product_sku, product_unit\n",
    "    "
   ],
   "id": "4f32470ac8f020a1",
   "outputs": [],
   "execution_count": 86
  },
  {
   "metadata": {
    "ExecuteTime": {
     "end_time": "2024-09-27T15:40:42.254273Z",
     "start_time": "2024-09-27T15:40:42.243601Z"
    }
   },
   "cell_type": "code",
   "source": "data: dict = json.loads(response.text)",
   "id": "8b7237cc95150caf",
   "outputs": [],
   "execution_count": 87
  },
  {
   "metadata": {
    "ExecuteTime": {
     "end_time": "2024-09-27T15:40:43.167633Z",
     "start_time": "2024-09-27T15:40:43.159709Z"
    }
   },
   "cell_type": "code",
   "source": [
    "created_ons = []\n",
    "product_names = []\n",
    "product_skus = []\n",
    "source_locations = []\n",
    "destination_locations = []\n",
    "manufacture_dates = []\n",
    "expiration_dates = []\n",
    "type_sts = []\n",
    "quantities = []\n",
    "product_units = []\n",
    "codes = []\n",
    "notes = []"
   ],
   "id": "366616afd5e6c11f",
   "outputs": [],
   "execution_count": 88
  },
  {
   "metadata": {
    "ExecuteTime": {
     "end_time": "2024-09-27T15:40:44.150521Z",
     "start_time": "2024-09-27T15:40:44.142997Z"
    }
   },
   "cell_type": "code",
   "source": [
    "locations = {\n",
    "    598184: \"CN HCM\",\n",
    "    598800: \"Xưởng\",\n",
    "    719281: \"KIOS\",\n",
    "    727076: \"CN Bình Thuận\"\n",
    "}"
   ],
   "id": "26385375cb54b293",
   "outputs": [],
   "execution_count": 89
  },
  {
   "metadata": {
    "ExecuteTime": {
     "end_time": "2024-09-27T15:40:50.046347Z",
     "start_time": "2024-09-27T15:40:45.895487Z"
    }
   },
   "cell_type": "code",
   "source": [
    "for stock_transfers in data['stock_transfers']:\n",
    "    created_on = stock_transfers['created_on']\n",
    "    created_on = datetime.strptime(created_on,\"%Y-%m-%dT%H:%M:%SZ\").strftime(\"%d/%m/%Y\")\n",
    "    code = stock_transfers['code']\n",
    "    source_location = locations[stock_transfers[\"source_location_id\"]]\n",
    "    destination_location = locations[stock_transfers[\"destination_location_id\"]]\n",
    "    if stock_transfers[\"destination_location_id\"]==727076:\n",
    "        continue\n",
    "    for line_item in stock_transfers['line_items']:\n",
    "        lots_dates = line_item[\"lots_dates\"]\n",
    "        variant_id = line_item[\"variant_id\"]\n",
    "        product_name, sku, unit = get_product_name_sku_unit(variant_id)\n",
    "        for lots_date in lots_dates:\n",
    "            lots_number = lots_date[\"lots_number\"]\n",
    "            manufacture_date = lots_date[\"manufacture_date\"]\n",
    "            manufacture_date = datetime.strptime(manufacture_date,\"%Y-%m-%dT%H:%M:%SZ\").strftime(\"%d/%m/%Y\")\n",
    "            expiration_date = lots_date[\"expiration_date\"]\n",
    "            expiration_date = datetime.strptime(expiration_date,\"%Y-%m-%dT%H:%M:%SZ\").strftime(\"%d/%m/%Y\")\n",
    "            type_st = \"CHUYỂN\"\n",
    "            quantity = lots_date[\"quantity\"]\n",
    "            #save data\n",
    "            created_ons.append(created_on)\n",
    "            product_names.append(product_name)\n",
    "            product_skus.append(sku)\n",
    "            source_locations.append(source_location) \n",
    "            destination_locations.append(destination_location)\n",
    "            manufacture_dates.append(manufacture_date)\n",
    "            expiration_dates.append(expiration_date)\n",
    "            type_sts.append(type_st) \n",
    "            quantities.append(quantity) \n",
    "            product_units.append(unit) \n",
    "            codes.append(code)\n",
    "            notes.append(\"\")"
   ],
   "id": "c7ca8150c93152a4",
   "outputs": [],
   "execution_count": 90
  },
  {
   "metadata": {
    "ExecuteTime": {
     "end_time": "2024-09-27T15:40:51.278807Z",
     "start_time": "2024-09-27T15:40:51.256857Z"
    }
   },
   "cell_type": "code",
   "source": [
    "data = {\n",
    "    'Created On': created_ons,\n",
    "    'Product Name': product_names,\n",
    "    'Product SKU': product_skus,\n",
    "    'Source Location': source_locations,\n",
    "    'Destination Location': destination_locations,\n",
    "    'Manufacture Date': manufacture_dates,\n",
    "    'Expiration Date': expiration_dates,\n",
    "    'Type': type_sts,\n",
    "    'Quantity': quantities,\n",
    "    'Product Unit': product_units,\n",
    "    'Code': codes,\n",
    "    'Notes': notes\n",
    "}\n",
    "df = pd.DataFrame(data)"
   ],
   "id": "c35653915c3298e4",
   "outputs": [],
   "execution_count": 91
  },
  {
   "metadata": {
    "ExecuteTime": {
     "end_time": "2024-09-27T15:40:52.187226Z",
     "start_time": "2024-09-27T15:40:52.160175Z"
    }
   },
   "cell_type": "code",
   "source": "df.to_csv('stock.csv', index=False)",
   "id": "7f342284dc31b6e8",
   "outputs": [],
   "execution_count": 92
  },
  {
   "metadata": {},
   "cell_type": "code",
   "outputs": [],
   "execution_count": null,
   "source": "",
   "id": "5ed9af3d08adf4c9"
  }
 ],
 "metadata": {
  "kernelspec": {
   "display_name": "Python 3",
   "language": "python",
   "name": "python3"
  },
  "language_info": {
   "codemirror_mode": {
    "name": "ipython",
    "version": 2
   },
   "file_extension": ".py",
   "mimetype": "text/x-python",
   "name": "python",
   "nbconvert_exporter": "python",
   "pygments_lexer": "ipython2",
   "version": "2.7.6"
  }
 },
 "nbformat": 4,
 "nbformat_minor": 5
}
