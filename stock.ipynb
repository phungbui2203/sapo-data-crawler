{
 "cells": [
  {
   "cell_type": "code",
   "id": "initial_id",
   "metadata": {
    "collapsed": true,
    "ExecuteTime": {
     "end_time": "2024-10-02T16:00:01.926300Z",
     "start_time": "2024-10-02T16:00:01.905776Z"
    }
   },
   "source": [
    "import requests\n",
    "import pandas as pd\n",
    "import json\n",
    "from datetime import datetime\n",
    "import mysql.connector"
   ],
   "outputs": [],
   "execution_count": 15
  },
  {
   "metadata": {
    "ExecuteTime": {
     "end_time": "2024-10-02T16:00:02.701058Z",
     "start_time": "2024-10-02T16:00:02.644903Z"
    }
   },
   "cell_type": "code",
   "source": [
    "mydb = mysql.connector.connect(\n",
    "    host = \"localhost\",\n",
    "    user = \"root\",\n",
    "    password = \"admin\",\n",
    "    database = \"sapo_data\",\n",
    "    charset = \"utf8mb4\"\n",
    ") "
   ],
   "id": "9a3709fe4951f124",
   "outputs": [],
   "execution_count": 16
  },
  {
   "metadata": {
    "ExecuteTime": {
     "end_time": "2024-10-02T16:00:03.237129Z",
     "start_time": "2024-10-02T16:00:03.229541Z"
    }
   },
   "cell_type": "code",
   "source": "cookies = 'your cookie'",
   "id": "2801adb4ed9000b7",
   "outputs": [],
   "execution_count": 17
  },
  {
   "metadata": {
    "ExecuteTime": {
     "end_time": "2024-10-02T16:00:04.050078Z",
     "start_time": "2024-10-02T16:00:03.856500Z"
    }
   },
   "cell_type": "code",
   "source": [
    "url = \"https://yoururl/admin/stock_transfers.json?page=1&limit=20\"\n",
    "payload = {}\n",
    "headers = {\n",
    "  'Cookie': cookies,\n",
    "}\n",
    "\n",
    "response = requests.request(\"GET\", url, headers=headers, data=payload)"
   ],
   "id": "a9a50769f9a52a91",
   "outputs": [],
   "execution_count": 18
  },
  {
   "metadata": {
    "ExecuteTime": {
     "end_time": "2024-10-02T16:00:15.710234Z",
     "start_time": "2024-10-02T16:00:15.697781Z"
    }
   },
   "cell_type": "code",
   "source": [
    "def get_product_name_sku_unit(variant_id: int) -> (str, str, str):\n",
    "    product_url = f\"https://yoururl/admin/variants/search.json?ids={variant_id}&status=active%2Cinactive%2Cdeleted&page=1&limit=200\"\n",
    "    product_payload = {}\n",
    "    product_headers = {\n",
    "      'Cookie': cookies,\n",
    "    }\n",
    "    \n",
    "    product_response = requests.request(\"GET\", product_url, headers=product_headers, data=product_payload)\n",
    "    product_data = json.loads(product_response.text)\n",
    "    product_name = product_data[\"variants\"][0][\"name\"]\n",
    "    product_sku = product_data[\"variants\"][0][\"sku\"]\n",
    "    product_unit = product_data[\"variants\"][0][\"unit\"]\n",
    "    return product_name, product_sku, product_unit\n",
    "    "
   ],
   "id": "4f32470ac8f020a1",
   "outputs": [],
   "execution_count": 19
  },
  {
   "metadata": {
    "ExecuteTime": {
     "end_time": "2024-10-02T16:00:16.562036Z",
     "start_time": "2024-10-02T16:00:16.547926Z"
    }
   },
   "cell_type": "code",
   "source": "data: dict = json.loads(response.text)",
   "id": "8b7237cc95150caf",
   "outputs": [],
   "execution_count": 20
  },
  {
   "metadata": {
    "ExecuteTime": {
     "end_time": "2024-10-02T16:00:17.351217Z",
     "start_time": "2024-10-02T16:00:17.342631Z"
    }
   },
   "cell_type": "code",
   "source": [
    "created_ons = []\n",
    "product_names = []\n",
    "product_skus = []\n",
    "source_locations = []\n",
    "destination_locations = []\n",
    "lot_numbers = []\n",
    "manufacture_dates = []\n",
    "expiration_dates = []\n",
    "type_sts = []\n",
    "quantities = []\n",
    "product_units = []\n",
    "codes = []\n",
    "notes = []"
   ],
   "id": "366616afd5e6c11f",
   "outputs": [],
   "execution_count": 21
  },
  {
   "metadata": {
    "ExecuteTime": {
     "end_time": "2024-10-02T16:00:17.987502Z",
     "start_time": "2024-10-02T16:00:17.976817Z"
    }
   },
   "cell_type": "code",
   "source": [
    "def insert_stock_data(created_on,product_name,product_sku,source_location,destination_location,lot_number,manufacture_date,expiration_date,type_st,quantity,product_unit,code,note):\n",
    "    mycursor = mydb.cursor()\n",
    "    sql= \"insert ignore into `stock`(created_on,product_name,product_sku,source_location,destination_location,lot_number,manufacture_date,expiration_date,type_st,quantity,product_unit,code,note) values(%s,%s,%s,%s,%s,%s,%s,%s,%s,%s,%s,%s,%s)\"\n",
    "    val = (created_on,product_name,product_sku,source_location,destination_location,lot_number,manufacture_date,expiration_date,type_st,quantity,product_unit,code,note)\n",
    "    try:\n",
    "        mycursor.execute(sql, val)\n",
    "        \n",
    "        mydb.commit()\n",
    "    except:\n",
    "        raise  "
   ],
   "id": "5379998d876c3798",
   "outputs": [],
   "execution_count": 22
  },
  {
   "metadata": {
    "ExecuteTime": {
     "end_time": "2024-10-02T16:00:18.794347Z",
     "start_time": "2024-10-02T16:00:18.788608Z"
    }
   },
   "cell_type": "code",
   "source": [
    "locations = {\n",
    "    598184: \"CN HCM\",\n",
    "    598800: \"Xưởng\",\n",
    "    719281: \"KIOS\",\n",
    "    727076: \"CN Bình Thuận\"\n",
    "}"
   ],
   "id": "26385375cb54b293",
   "outputs": [],
   "execution_count": 23
  },
  {
   "metadata": {
    "ExecuteTime": {
     "end_time": "2024-10-02T16:00:21.842436Z",
     "start_time": "2024-10-02T16:00:19.461631Z"
    }
   },
   "cell_type": "code",
   "source": [
    "for stock_transfers in data['stock_transfers']:\n",
    "    created_on = stock_transfers['created_on']\n",
    "    created_on = datetime.strptime(created_on,\"%Y-%m-%dT%H:%M:%SZ\").strftime(\"%d/%m/%Y\")\n",
    "    code = stock_transfers['code']\n",
    "    source_location = locations[stock_transfers[\"source_location_id\"]]\n",
    "    destination_location = locations[stock_transfers[\"destination_location_id\"]]\n",
    "    if stock_transfers[\"destination_location_id\"]==727076:\n",
    "        continue\n",
    "    for line_item in stock_transfers['line_items']:\n",
    "        lots_dates = line_item[\"lots_dates\"]\n",
    "        variant_id = line_item[\"variant_id\"]\n",
    "        product_name, sku, unit = get_product_name_sku_unit(variant_id)\n",
    "        for lots_date in lots_dates:\n",
    "            lots_number = lots_date[\"lots_number\"]\n",
    "            manufacture_date = lots_date[\"manufacture_date\"]\n",
    "            manufacture_date = datetime.strptime(manufacture_date,\"%Y-%m-%dT%H:%M:%SZ\").strftime(\"%d/%m/%Y\")\n",
    "            expiration_date = lots_date[\"expiration_date\"]\n",
    "            expiration_date = datetime.strptime(expiration_date,\"%Y-%m-%dT%H:%M:%SZ\").strftime(\"%d/%m/%Y\")\n",
    "            type_st = \"CHUYỂN\"\n",
    "            quantity = lots_date[\"quantity\"]\n",
    "            #save data\n",
    "            created_ons.append(created_on)\n",
    "            product_names.append(product_name)\n",
    "            product_skus.append(sku)\n",
    "            source_locations.append(source_location) \n",
    "            destination_locations.append(destination_location)\n",
    "            lot_numbers.append(lots_number)\n",
    "            manufacture_dates.append(manufacture_date)\n",
    "            expiration_dates.append(expiration_date)\n",
    "            type_sts.append(type_st) \n",
    "            quantities.append(quantity) \n",
    "            product_units.append(unit) \n",
    "            codes.append(code)\n",
    "            notes.append(\"\")\n",
    "            insert_stock_data(created_on,product_name,sku,source_location,destination_location,lots_number,manufacture_date,expiration_date,type_st,quantity,unit,code, \"\")"
   ],
   "id": "c7ca8150c93152a4",
   "outputs": [],
   "execution_count": 24
  },
  {
   "metadata": {
    "ExecuteTime": {
     "end_time": "2024-10-02T16:00:22.687421Z",
     "start_time": "2024-10-02T16:00:22.673708Z"
    }
   },
   "cell_type": "code",
   "source": [
    "data = {\n",
    "    'Created On': created_ons,\n",
    "    'Product Name': product_names,\n",
    "    'Product SKU': product_skus,\n",
    "    'Source Location': source_locations,\n",
    "    'Destination Location': destination_locations,\n",
    "    'Lot Number': lot_numbers,\n",
    "    'Manufacture Date': manufacture_dates,\n",
    "    'Expiration Date': expiration_dates,\n",
    "    'Type': type_sts,\n",
    "    'Quantity': quantities,\n",
    "    'Product Unit': product_units,\n",
    "    'Code': codes,\n",
    "    'Notes': notes\n",
    "}\n",
    "df = pd.DataFrame(data)"
   ],
   "id": "c35653915c3298e4",
   "outputs": [],
   "execution_count": 25
  },
  {
   "metadata": {
    "ExecuteTime": {
     "end_time": "2024-10-02T16:00:24.383141Z",
     "start_time": "2024-10-02T16:00:24.372566Z"
    }
   },
   "cell_type": "code",
   "source": "df.to_csv('stock.csv', index=False)",
   "id": "7f342284dc31b6e8",
   "outputs": [],
   "execution_count": 26
  },
  {
   "metadata": {
    "ExecuteTime": {
     "end_time": "2024-10-02T16:00:25.119218Z",
     "start_time": "2024-10-02T16:00:25.111903Z"
    }
   },
   "cell_type": "code",
   "source": "mydb.close()",
   "id": "5ed9af3d08adf4c9",
   "outputs": [],
   "execution_count": 27
  },
  {
   "metadata": {},
   "cell_type": "code",
   "outputs": [],
   "execution_count": null,
   "source": "",
   "id": "bfdf42303a61868f"
  }
 ],
 "metadata": {
  "kernelspec": {
   "display_name": "Python 3",
   "language": "python",
   "name": "python3"
  },
  "language_info": {
   "codemirror_mode": {
    "name": "ipython",
    "version": 2
   },
   "file_extension": ".py",
   "mimetype": "text/x-python",
   "name": "python",
   "nbconvert_exporter": "python",
   "pygments_lexer": "ipython2",
   "version": "2.7.6"
  }
 },
 "nbformat": 4,
 "nbformat_minor": 5
}
