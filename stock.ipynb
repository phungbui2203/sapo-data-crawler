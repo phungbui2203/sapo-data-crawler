{
 "cells": [
  {
   "cell_type": "code",
   "id": "initial_id",
   "metadata": {
    "collapsed": true,
    "ExecuteTime": {
     "end_time": "2024-09-25T15:37:38.073618Z",
     "start_time": "2024-09-25T15:37:38.060453Z"
    }
   },
   "source": [
    "import requests\n",
    "import pandas as pd\n",
    "import json\n",
    "from datetime import datetime"
   ],
   "outputs": [],
   "execution_count": 15
  },
  {
   "metadata": {
    "ExecuteTime": {
     "end_time": "2024-09-25T15:37:39.752465Z",
     "start_time": "2024-09-25T15:37:39.525215Z"
    }
   },
   "cell_type": "code",
   "source": [
    "url = \"https://beanyfood.mysapogo.com/admin/stock_transfers.json?page=1&limit=20\"\n",
    "cookie = \"report_ver=3; _fw_crm_v=b03a9b5b-9cdb-4d81-ab85-c51c8076a2ee; _fbp=fb.1.1722010576000.953081039792325240; _gid=GA1.2.1799164610.1727264872; sapo-admin=CfDJ8DA1016STPdNrAaTdK2HgWfb_WuX325dGXFuTm3R1RxaYTf5OO4Pe1mzGnGsFLhL5IqORTimQxDVXU42YqLnyDDY64jTNiIR8hTDUAB_o2KTSSsUWgu-XYMo7tI5PyY-V_LsScv0SzACHAuFHA9wRkL34MQtAIwLpPh_KmthLbeKSG4z2yr88-UdywVl4VkyHL9Pvzk94hZZqCY58ezue-gDRD6MVXTtOR6NHgwGJfa-mjtleCMlpPnLneEyiHg4lRGO0jkfjomNy8RKnOx6wrAiu27IZ_FcF_AHBcvXKZWu5tFRaAjIOt3por6Pjf17npVmBE0T46S6YFi5R1cNhpeWVx0zcvhybXEYKIi8lvSfAhJg8D-znoGNLjaMeymXwprXaSkH5WiqNkOno3hkhUvhbN6OtHsz7zeQmvo8mx5t-wOuhUMkn4U6jkFJ5TUhbCrcXVoMvt29g3XEZnymuc2Hh4qyPY9yRWwfYaP7TR4a21a6tSlJvT3UV_o74FsGNALxdOXpH8hQyqGqBR-Sj9IXkmgX4G0azvbmCZPqkGXC14rQ5X_HZmE1mQFb46yZiMZXoz6sTECWMSLEosXKjl20B-sipF5TOOSFIEKIuMPWyEeZvdUvfVrKlCMCmiRP8Q; lang=vi; .AspNetCore.Session=CfDJ8DA1016STPdNrAaTdK2HgWeO1jwQe%2Bmk61hlM0jsGjycCAZRbMKH%2FyOPvbU4auAXnhV5t24wgmiqL58uB%2FEVCKxcFbQ1twX6NhHjxb9NYf7QzLCKZ9%2FSyDGCnfuUDAJbUq1yGRJ4wuDRRkTFG6TV3cZWDFPZIprMWXTgrigKf5Wa; _ga_4NX0F91DEX=GS1.1.1727269173.51.1.1727269175.0.0.0; _ga=GA1.1.1357561029.1697356741; _admin_session_id=479354bc-0356-943f-58b9-a896409c1c45; _ga_Z1V9QDBF2Q=GS1.1.1727278487.52.1.1727278500.0.0.0\"\n",
    "payload = {}\n",
    "headers = {\n",
    "  'Accept': 'application/json, text/plain, */*',\n",
    "  'Accept-Language': 'vi',\n",
    "  'Connection': 'keep-alive',\n",
    "  'Cookie': cookie,\n",
    "  'Referer': 'https://beanyfood.mysapogo.com/admin/stock_transfers.json?page=1&limit=20',\n",
    "  'Sec-Fetch-Dest': 'empty',\n",
    "  'Sec-Fetch-Mode': 'cors',\n",
    "  'Sec-Fetch-Site': 'same-origin',\n",
    "  'User-Agent': 'Mozilla/5.0 (Windows NT 10.0; Win64; x64) AppleWebKit/537.36 (KHTML, like Gecko) Chrome/128.0.0.0 Safari/537.36',\n",
    "  'X-Sapo-Client': 'sapo-frontend-v3',\n",
    "  'X-Sapo-ServiceId': 'sapo-frontend-v3',\n",
    "  'sec-ch-ua': '\"Chromium\";v=\"128\", \"Not;A=Brand\";v=\"24\", \"Google Chrome\";v=\"128\"',\n",
    "  'sec-ch-ua-mobile': '?0',\n",
    "  'sec-ch-ua-platform': '\"Windows\"'\n",
    "}\n",
    "\n",
    "response = requests.request(\"GET\", url, headers=headers, data=payload)"
   ],
   "id": "a9a50769f9a52a91",
   "outputs": [],
   "execution_count": 16
  },
  {
   "metadata": {
    "ExecuteTime": {
     "end_time": "2024-09-25T15:37:41.181433Z",
     "start_time": "2024-09-25T15:37:41.168729Z"
    }
   },
   "cell_type": "code",
   "source": [
    "def get_product_name_sku_unit(variant_id: int) -> (str, str, str):\n",
    "    product_url = f\"https://beanyfood.mysapogo.com/admin/variants/search.json?ids={variant_id}status=active%2Cinactive%2Cdeleted&page=1&limit=200\"\n",
    "\n",
    "    product_payload = {}\n",
    "    product_headers = {\n",
    "      'Accept': 'application/json, text/plain, */*',\n",
    "      'Accept-Language': 'vi',\n",
    "      'Connection': 'keep-alive',\n",
    "      'Cookie': 'report_ver=3; _fw_crm_v=b03a9b5b-9cdb-4d81-ab85-c51c8076a2ee; _fbp=fb.1.1722010576000.953081039792325240; _gid=GA1.2.1799164610.1727264872; sapo-admin=CfDJ8DA1016STPdNrAaTdK2HgWfb_WuX325dGXFuTm3R1RxaYTf5OO4Pe1mzGnGsFLhL5IqORTimQxDVXU42YqLnyDDY64jTNiIR8hTDUAB_o2KTSSsUWgu-XYMo7tI5PyY-V_LsScv0SzACHAuFHA9wRkL34MQtAIwLpPh_KmthLbeKSG4z2yr88-UdywVl4VkyHL9Pvzk94hZZqCY58ezue-gDRD6MVXTtOR6NHgwGJfa-mjtleCMlpPnLneEyiHg4lRGO0jkfjomNy8RKnOx6wrAiu27IZ_FcF_AHBcvXKZWu5tFRaAjIOt3por6Pjf17npVmBE0T46S6YFi5R1cNhpeWVx0zcvhybXEYKIi8lvSfAhJg8D-znoGNLjaMeymXwprXaSkH5WiqNkOno3hkhUvhbN6OtHsz7zeQmvo8mx5t-wOuhUMkn4U6jkFJ5TUhbCrcXVoMvt29g3XEZnymuc2Hh4qyPY9yRWwfYaP7TR4a21a6tSlJvT3UV_o74FsGNALxdOXpH8hQyqGqBR-Sj9IXkmgX4G0azvbmCZPqkGXC14rQ5X_HZmE1mQFb46yZiMZXoz6sTECWMSLEosXKjl20B-sipF5TOOSFIEKIuMPWyEeZvdUvfVrKlCMCmiRP8Q; lang=vi; .AspNetCore.Session=CfDJ8DA1016STPdNrAaTdK2HgWeO1jwQe%2Bmk61hlM0jsGjycCAZRbMKH%2FyOPvbU4auAXnhV5t24wgmiqL58uB%2FEVCKxcFbQ1twX6NhHjxb9NYf7QzLCKZ9%2FSyDGCnfuUDAJbUq1yGRJ4wuDRRkTFG6TV3cZWDFPZIprMWXTgrigKf5Wa; _ga_4NX0F91DEX=GS1.1.1727269173.51.1.1727269175.0.0.0; _ga=GA1.1.1357561029.1697356741; _admin_session_id=479354bc-0356-943f-58b9-a896409c1c45; _ga_Z1V9QDBF2Q=GS1.1.1727278487.52.1.1727278500.0.0.0',\n",
    "      'Sec-Fetch-Dest': 'empty',\n",
    "      'Sec-Fetch-Mode': 'cors',\n",
    "      'Sec-Fetch-Site': 'same-origin',\n",
    "      'User-Agent': 'Mozilla/5.0 (Windows NT 10.0; Win64; x64) AppleWebKit/537.36 (KHTML, like Gecko) Chrome/129.0.0.0 Safari/537.36',\n",
    "      'X-Sapo-Client': 'sapo-frontend-v3',\n",
    "      'X-Sapo-ServiceId': 'sapo-frontend-v3',\n",
    "      'sec-ch-ua': '\"Google Chrome\";v=\"129\", \"Not=A?Brand\";v=\"8\", \"Chromium\";v=\"129\"',\n",
    "      'sec-ch-ua-mobile': '?0',\n",
    "      'sec-ch-ua-platform': '\"Windows\"'\n",
    "    }\n",
    "    \n",
    "    product_response = requests.request(\"GET\", product_url, headers=product_headers, data=product_payload)\n",
    "    product_data = json.loads(product_response.text)\n",
    "    product_name = product_data[\"variants\"][0][\"name\"]\n",
    "    product_sku = product_data[\"variants\"][0][\"sku\"]\n",
    "    product_unit = product_data[\"variants\"][0][\"unit\"]\n",
    "    return product_name, product_sku, product_unit\n",
    "    "
   ],
   "id": "4f32470ac8f020a1",
   "outputs": [],
   "execution_count": 17
  },
  {
   "metadata": {
    "ExecuteTime": {
     "end_time": "2024-09-25T15:37:42.500726Z",
     "start_time": "2024-09-25T15:37:42.493746Z"
    }
   },
   "cell_type": "code",
   "source": "data: dict = json.loads(response.text)",
   "id": "8b7237cc95150caf",
   "outputs": [],
   "execution_count": 18
  },
  {
   "metadata": {
    "ExecuteTime": {
     "end_time": "2024-09-25T15:37:43.452507Z",
     "start_time": "2024-09-25T15:37:43.445398Z"
    }
   },
   "cell_type": "code",
   "source": [
    "created_on = []\n",
    "product_name = []\n",
    "product_sku = []\n",
    "source_location = []\n",
    "destination_location = []\n",
    "lots_dates = []\n",
    "type_st = []\n",
    "quantity = []\n",
    "product_unit = []\n",
    "code = []\n",
    "notes = []"
   ],
   "id": "366616afd5e6c11f",
   "outputs": [],
   "execution_count": 19
  },
  {
   "metadata": {
    "ExecuteTime": {
     "end_time": "2024-09-25T15:37:44.682580Z",
     "start_time": "2024-09-25T15:37:44.678515Z"
    }
   },
   "cell_type": "code",
   "source": [
    "locations = {\n",
    "    598184: \"CN HCM\",\n",
    "    598800: \"Xưởng\",\n",
    "    719281: \"KIOS\",\n",
    "    727076: \"CN Bình Thuận\"\n",
    "}"
   ],
   "id": "26385375cb54b293",
   "outputs": [],
   "execution_count": 20
  },
  {
   "metadata": {
    "ExecuteTime": {
     "end_time": "2024-09-25T15:39:43.684737Z",
     "start_time": "2024-09-25T15:39:43.489585Z"
    }
   },
   "cell_type": "code",
   "source": [
    "for stock_transfers in data['stock_transfers']:\n",
    "    created_on = stock_transfers['created_on']\n",
    "    code = stock_transfers['code']\n",
    "    source_location = locations[stock_transfers[\"source_location_id\"]]\n",
    "    destination_location = locations[stock_transfers[\"destination_location_id\"]]\n",
    "    for line_item in stock_transfers['line_items']:\n",
    "        lots_dates = line_item[\"lots_dates\"]\n",
    "        variant_id = line_item[\"variant_id\"]\n",
    "        product_name, sku, unit = get_product_name_sku_unit(variant_id)\n",
    "        for lots_date in lots_dates:\n",
    "            lots_number = lots_date[\"lots_number\"]\n",
    "            manufacture_date = lots_date[\"manufacture_date\"]\n",
    "            expiration_date = lots_date[\"expiration_date\"]\n",
    "            type_st = \"CHUYỂN\"\n",
    "            quantity = lots_date[\"quantity\"]\n",
    "            #save data\n",
    "            created_on.append(created_on)\n",
    "            product_name.append(product_name)\n",
    "            product_sku.append(product_sku)\n",
    "            source_location.append(source_location) \n",
    "            destination_location.append(destination_location)\n",
    "            lots_dates.append(lots_date)\n",
    "            type_st.append(type_st) \n",
    "            quantity.append(quantity) \n",
    "            product_unit.append(product_unit) \n",
    "            code.append(code)\n",
    "            notes.append(\"\")"
   ],
   "id": "c7ca8150c93152a4",
   "outputs": [
    {
     "ename": "KeyError",
     "evalue": "'variants'",
     "output_type": "error",
     "traceback": [
      "\u001B[1;31m---------------------------------------------------------------------------\u001B[0m",
      "\u001B[1;31mKeyError\u001B[0m                                  Traceback (most recent call last)",
      "Cell \u001B[1;32mIn[23], line 9\u001B[0m\n\u001B[0;32m      7\u001B[0m lots_dates \u001B[38;5;241m=\u001B[39m line_item[\u001B[38;5;124m\"\u001B[39m\u001B[38;5;124mlots_dates\u001B[39m\u001B[38;5;124m\"\u001B[39m]\n\u001B[0;32m      8\u001B[0m variant_id \u001B[38;5;241m=\u001B[39m line_item[\u001B[38;5;124m\"\u001B[39m\u001B[38;5;124mvariant_id\u001B[39m\u001B[38;5;124m\"\u001B[39m]\n\u001B[1;32m----> 9\u001B[0m product_name, sku, unit \u001B[38;5;241m=\u001B[39m \u001B[43mget_product_name_sku_unit\u001B[49m\u001B[43m(\u001B[49m\u001B[43mvariant_id\u001B[49m\u001B[43m)\u001B[49m\n\u001B[0;32m     10\u001B[0m \u001B[38;5;28;01mfor\u001B[39;00m lots_date \u001B[38;5;129;01min\u001B[39;00m lots_dates:\n\u001B[0;32m     11\u001B[0m     lots_number \u001B[38;5;241m=\u001B[39m lots_date[\u001B[38;5;124m\"\u001B[39m\u001B[38;5;124mlots_number\u001B[39m\u001B[38;5;124m\"\u001B[39m]\n",
      "Cell \u001B[1;32mIn[17], line 23\u001B[0m, in \u001B[0;36mget_product_name_sku_unit\u001B[1;34m(variant_id)\u001B[0m\n\u001B[0;32m     21\u001B[0m product_response \u001B[38;5;241m=\u001B[39m requests\u001B[38;5;241m.\u001B[39mrequest(\u001B[38;5;124m\"\u001B[39m\u001B[38;5;124mGET\u001B[39m\u001B[38;5;124m\"\u001B[39m, product_url, headers\u001B[38;5;241m=\u001B[39mproduct_headers, data\u001B[38;5;241m=\u001B[39mproduct_payload)\n\u001B[0;32m     22\u001B[0m product_data \u001B[38;5;241m=\u001B[39m json\u001B[38;5;241m.\u001B[39mloads(product_response\u001B[38;5;241m.\u001B[39mtext)\n\u001B[1;32m---> 23\u001B[0m product_name \u001B[38;5;241m=\u001B[39m \u001B[43mproduct_data\u001B[49m\u001B[43m[\u001B[49m\u001B[38;5;124;43m\"\u001B[39;49m\u001B[38;5;124;43mvariants\u001B[39;49m\u001B[38;5;124;43m\"\u001B[39;49m\u001B[43m]\u001B[49m[\u001B[38;5;241m0\u001B[39m][\u001B[38;5;124m\"\u001B[39m\u001B[38;5;124mname\u001B[39m\u001B[38;5;124m\"\u001B[39m]\n\u001B[0;32m     24\u001B[0m product_sku \u001B[38;5;241m=\u001B[39m product_data[\u001B[38;5;124m\"\u001B[39m\u001B[38;5;124mvariants\u001B[39m\u001B[38;5;124m\"\u001B[39m][\u001B[38;5;241m0\u001B[39m][\u001B[38;5;124m\"\u001B[39m\u001B[38;5;124msku\u001B[39m\u001B[38;5;124m\"\u001B[39m]\n\u001B[0;32m     25\u001B[0m product_unit \u001B[38;5;241m=\u001B[39m product_data[\u001B[38;5;124m\"\u001B[39m\u001B[38;5;124mvariants\u001B[39m\u001B[38;5;124m\"\u001B[39m][\u001B[38;5;241m0\u001B[39m][\u001B[38;5;124m\"\u001B[39m\u001B[38;5;124munit\u001B[39m\u001B[38;5;124m\"\u001B[39m]\n",
      "\u001B[1;31mKeyError\u001B[0m: 'variants'"
     ]
    }
   ],
   "execution_count": 23
  },
  {
   "metadata": {
    "ExecuteTime": {
     "end_time": "2024-09-25T15:40:54.049066Z",
     "start_time": "2024-09-25T15:40:53.484978Z"
    }
   },
   "cell_type": "code",
   "source": [
    "data = {\n",
    "    \"created_on\": created_on, \n",
    "    \"product_name\": product_name, \n",
    "    \"product_sku\": product_sku,\n",
    "    \"source_location\": source_location,\n",
    "    \"destination_location\": destination_location, \n",
    "    \"lots_dates\": lots_dates,\n",
    "    \"type_st\": type_st, \n",
    "    \"quantity\": quantity, \n",
    "    \"product_unit\": product_unit, \n",
    "    \"code\": code, \n",
    "    \"notes\": notes \n",
    "}\n",
    "df = pd.DataFrame(data)"
   ],
   "id": "c35653915c3298e4",
   "outputs": [
    {
     "ename": "ValueError",
     "evalue": "All arrays must be of the same length",
     "output_type": "error",
     "traceback": [
      "\u001B[1;31m---------------------------------------------------------------------------\u001B[0m",
      "\u001B[1;31mValueError\u001B[0m                                Traceback (most recent call last)",
      "Cell \u001B[1;32mIn[24], line 14\u001B[0m\n\u001B[0;32m      1\u001B[0m data \u001B[38;5;241m=\u001B[39m {\n\u001B[0;32m      2\u001B[0m     \u001B[38;5;124m\"\u001B[39m\u001B[38;5;124mcreated_on\u001B[39m\u001B[38;5;124m\"\u001B[39m: created_on, \n\u001B[0;32m      3\u001B[0m     \u001B[38;5;124m\"\u001B[39m\u001B[38;5;124mproduct_name\u001B[39m\u001B[38;5;124m\"\u001B[39m: product_name, \n\u001B[1;32m   (...)\u001B[0m\n\u001B[0;32m     12\u001B[0m     \u001B[38;5;124m\"\u001B[39m\u001B[38;5;124mnotes\u001B[39m\u001B[38;5;124m\"\u001B[39m: notes \n\u001B[0;32m     13\u001B[0m }\n\u001B[1;32m---> 14\u001B[0m df \u001B[38;5;241m=\u001B[39m \u001B[43mpd\u001B[49m\u001B[38;5;241;43m.\u001B[39;49m\u001B[43mDataFrame\u001B[49m\u001B[43m(\u001B[49m\u001B[43mdata\u001B[49m\u001B[43m)\u001B[49m\n",
      "File \u001B[1;32m~\\notebook\\sapo-data-crawler\\.venv\\Lib\\site-packages\\pandas\\core\\frame.py:778\u001B[0m, in \u001B[0;36mDataFrame.__init__\u001B[1;34m(self, data, index, columns, dtype, copy)\u001B[0m\n\u001B[0;32m    772\u001B[0m     mgr \u001B[38;5;241m=\u001B[39m \u001B[38;5;28mself\u001B[39m\u001B[38;5;241m.\u001B[39m_init_mgr(\n\u001B[0;32m    773\u001B[0m         data, axes\u001B[38;5;241m=\u001B[39m{\u001B[38;5;124m\"\u001B[39m\u001B[38;5;124mindex\u001B[39m\u001B[38;5;124m\"\u001B[39m: index, \u001B[38;5;124m\"\u001B[39m\u001B[38;5;124mcolumns\u001B[39m\u001B[38;5;124m\"\u001B[39m: columns}, dtype\u001B[38;5;241m=\u001B[39mdtype, copy\u001B[38;5;241m=\u001B[39mcopy\n\u001B[0;32m    774\u001B[0m     )\n\u001B[0;32m    776\u001B[0m \u001B[38;5;28;01melif\u001B[39;00m \u001B[38;5;28misinstance\u001B[39m(data, \u001B[38;5;28mdict\u001B[39m):\n\u001B[0;32m    777\u001B[0m     \u001B[38;5;66;03m# GH#38939 de facto copy defaults to False only in non-dict cases\u001B[39;00m\n\u001B[1;32m--> 778\u001B[0m     mgr \u001B[38;5;241m=\u001B[39m \u001B[43mdict_to_mgr\u001B[49m\u001B[43m(\u001B[49m\u001B[43mdata\u001B[49m\u001B[43m,\u001B[49m\u001B[43m \u001B[49m\u001B[43mindex\u001B[49m\u001B[43m,\u001B[49m\u001B[43m \u001B[49m\u001B[43mcolumns\u001B[49m\u001B[43m,\u001B[49m\u001B[43m \u001B[49m\u001B[43mdtype\u001B[49m\u001B[38;5;241;43m=\u001B[39;49m\u001B[43mdtype\u001B[49m\u001B[43m,\u001B[49m\u001B[43m \u001B[49m\u001B[43mcopy\u001B[49m\u001B[38;5;241;43m=\u001B[39;49m\u001B[43mcopy\u001B[49m\u001B[43m,\u001B[49m\u001B[43m \u001B[49m\u001B[43mtyp\u001B[49m\u001B[38;5;241;43m=\u001B[39;49m\u001B[43mmanager\u001B[49m\u001B[43m)\u001B[49m\n\u001B[0;32m    779\u001B[0m \u001B[38;5;28;01melif\u001B[39;00m \u001B[38;5;28misinstance\u001B[39m(data, ma\u001B[38;5;241m.\u001B[39mMaskedArray):\n\u001B[0;32m    780\u001B[0m     \u001B[38;5;28;01mfrom\u001B[39;00m \u001B[38;5;21;01mnumpy\u001B[39;00m\u001B[38;5;21;01m.\u001B[39;00m\u001B[38;5;21;01mma\u001B[39;00m \u001B[38;5;28;01mimport\u001B[39;00m mrecords\n",
      "File \u001B[1;32m~\\notebook\\sapo-data-crawler\\.venv\\Lib\\site-packages\\pandas\\core\\internals\\construction.py:503\u001B[0m, in \u001B[0;36mdict_to_mgr\u001B[1;34m(data, index, columns, dtype, typ, copy)\u001B[0m\n\u001B[0;32m    499\u001B[0m     \u001B[38;5;28;01melse\u001B[39;00m:\n\u001B[0;32m    500\u001B[0m         \u001B[38;5;66;03m# dtype check to exclude e.g. range objects, scalars\u001B[39;00m\n\u001B[0;32m    501\u001B[0m         arrays \u001B[38;5;241m=\u001B[39m [x\u001B[38;5;241m.\u001B[39mcopy() \u001B[38;5;28;01mif\u001B[39;00m \u001B[38;5;28mhasattr\u001B[39m(x, \u001B[38;5;124m\"\u001B[39m\u001B[38;5;124mdtype\u001B[39m\u001B[38;5;124m\"\u001B[39m) \u001B[38;5;28;01melse\u001B[39;00m x \u001B[38;5;28;01mfor\u001B[39;00m x \u001B[38;5;129;01min\u001B[39;00m arrays]\n\u001B[1;32m--> 503\u001B[0m \u001B[38;5;28;01mreturn\u001B[39;00m \u001B[43marrays_to_mgr\u001B[49m\u001B[43m(\u001B[49m\u001B[43marrays\u001B[49m\u001B[43m,\u001B[49m\u001B[43m \u001B[49m\u001B[43mcolumns\u001B[49m\u001B[43m,\u001B[49m\u001B[43m \u001B[49m\u001B[43mindex\u001B[49m\u001B[43m,\u001B[49m\u001B[43m \u001B[49m\u001B[43mdtype\u001B[49m\u001B[38;5;241;43m=\u001B[39;49m\u001B[43mdtype\u001B[49m\u001B[43m,\u001B[49m\u001B[43m \u001B[49m\u001B[43mtyp\u001B[49m\u001B[38;5;241;43m=\u001B[39;49m\u001B[43mtyp\u001B[49m\u001B[43m,\u001B[49m\u001B[43m \u001B[49m\u001B[43mconsolidate\u001B[49m\u001B[38;5;241;43m=\u001B[39;49m\u001B[43mcopy\u001B[49m\u001B[43m)\u001B[49m\n",
      "File \u001B[1;32m~\\notebook\\sapo-data-crawler\\.venv\\Lib\\site-packages\\pandas\\core\\internals\\construction.py:114\u001B[0m, in \u001B[0;36marrays_to_mgr\u001B[1;34m(arrays, columns, index, dtype, verify_integrity, typ, consolidate)\u001B[0m\n\u001B[0;32m    111\u001B[0m \u001B[38;5;28;01mif\u001B[39;00m verify_integrity:\n\u001B[0;32m    112\u001B[0m     \u001B[38;5;66;03m# figure out the index, if necessary\u001B[39;00m\n\u001B[0;32m    113\u001B[0m     \u001B[38;5;28;01mif\u001B[39;00m index \u001B[38;5;129;01mis\u001B[39;00m \u001B[38;5;28;01mNone\u001B[39;00m:\n\u001B[1;32m--> 114\u001B[0m         index \u001B[38;5;241m=\u001B[39m \u001B[43m_extract_index\u001B[49m\u001B[43m(\u001B[49m\u001B[43marrays\u001B[49m\u001B[43m)\u001B[49m\n\u001B[0;32m    115\u001B[0m     \u001B[38;5;28;01melse\u001B[39;00m:\n\u001B[0;32m    116\u001B[0m         index \u001B[38;5;241m=\u001B[39m ensure_index(index)\n",
      "File \u001B[1;32m~\\notebook\\sapo-data-crawler\\.venv\\Lib\\site-packages\\pandas\\core\\internals\\construction.py:677\u001B[0m, in \u001B[0;36m_extract_index\u001B[1;34m(data)\u001B[0m\n\u001B[0;32m    675\u001B[0m lengths \u001B[38;5;241m=\u001B[39m \u001B[38;5;28mlist\u001B[39m(\u001B[38;5;28mset\u001B[39m(raw_lengths))\n\u001B[0;32m    676\u001B[0m \u001B[38;5;28;01mif\u001B[39;00m \u001B[38;5;28mlen\u001B[39m(lengths) \u001B[38;5;241m>\u001B[39m \u001B[38;5;241m1\u001B[39m:\n\u001B[1;32m--> 677\u001B[0m     \u001B[38;5;28;01mraise\u001B[39;00m \u001B[38;5;167;01mValueError\u001B[39;00m(\u001B[38;5;124m\"\u001B[39m\u001B[38;5;124mAll arrays must be of the same length\u001B[39m\u001B[38;5;124m\"\u001B[39m)\n\u001B[0;32m    679\u001B[0m \u001B[38;5;28;01mif\u001B[39;00m have_dicts:\n\u001B[0;32m    680\u001B[0m     \u001B[38;5;28;01mraise\u001B[39;00m \u001B[38;5;167;01mValueError\u001B[39;00m(\n\u001B[0;32m    681\u001B[0m         \u001B[38;5;124m\"\u001B[39m\u001B[38;5;124mMixing dicts with non-Series may lead to ambiguous ordering.\u001B[39m\u001B[38;5;124m\"\u001B[39m\n\u001B[0;32m    682\u001B[0m     )\n",
      "\u001B[1;31mValueError\u001B[0m: All arrays must be of the same length"
     ]
    }
   ],
   "execution_count": 24
  },
  {
   "metadata": {
    "ExecuteTime": {
     "end_time": "2024-09-25T15:33:09.685767Z",
     "start_time": "2024-09-25T15:33:09.670019Z"
    }
   },
   "cell_type": "code",
   "source": "df.to_csv('output.csv', index=False)",
   "id": "7f342284dc31b6e8",
   "outputs": [],
   "execution_count": 14
  },
  {
   "metadata": {},
   "cell_type": "code",
   "outputs": [],
   "execution_count": null,
   "source": "",
   "id": "5ed9af3d08adf4c9"
  }
 ],
 "metadata": {
  "kernelspec": {
   "display_name": "Python 3",
   "language": "python",
   "name": "python3"
  },
  "language_info": {
   "codemirror_mode": {
    "name": "ipython",
    "version": 2
   },
   "file_extension": ".py",
   "mimetype": "text/x-python",
   "name": "python",
   "nbconvert_exporter": "python",
   "pygments_lexer": "ipython2",
   "version": "2.7.6"
  }
 },
 "nbformat": 4,
 "nbformat_minor": 5
}
