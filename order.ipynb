{
 "cells": [
  {
   "cell_type": "code",
   "id": "a579c2ec-c778-4e77-91a9-e086fdaacc59",
   "metadata": {
    "ExecuteTime": {
     "end_time": "2024-09-30T14:09:25.628151Z",
     "start_time": "2024-09-30T14:09:25.611571Z"
    }
   },
   "source": [
    "import requests\n",
    "import json\n",
    "import pandas as pd\n",
    "from datetime import datetime\n",
    "import mysql.connector\n"
   ],
   "outputs": [],
   "execution_count": 224
  },
  {
   "metadata": {
    "ExecuteTime": {
     "end_time": "2024-09-30T14:09:26.248213Z",
     "start_time": "2024-09-30T14:09:26.225373Z"
    }
   },
   "cell_type": "code",
   "source": [
    "mydb = mysql.connector.connect(\n",
    "    host=\"localhost\",\n",
    "    user=\"root\",\n",
    "    password=\"admin\",\n",
    "    database=\"sapo_data\",\n",
    "    charset=\"utf8mb4\"\n",
    ")"
   ],
   "id": "13a97b3776aeae15",
   "outputs": [],
   "execution_count": 225
  },
  {
   "cell_type": "code",
   "id": "743482df-eb82-43e6-80c3-46e5979d41f9",
   "metadata": {
    "scrolled": true,
    "ExecuteTime": {
     "end_time": "2024-09-30T14:09:28.492244Z",
     "start_time": "2024-09-30T14:09:27.900527Z"
    }
   },
   "source": [
    "url = \"https://beanyfood.mysapogo.com/admin/orders.json?page=1&limit=100\"\n",
    "cookie = \"report_ver=3; _fw_crm_v=b03a9b5b-9cdb-4d81-ab85-c51c8076a2ee; _fbp=fb.1.1722010576000.953081039792325240; _gid=GA1.2.421020518.1727614808; _gat_gtag_UA_66880228_3=1; sapo-admin=CfDJ8DA1016STPdNrAaTdK2HgWfxhsoRYw9VbP9VUnDSNE2WlEuyslidCqjA_1_a1xy_5a4YQKJLlxeoGjapLLCfdUKaFJ46-X2GTWpIP7rVxkNBXC6J7aQO4ca86AWBoC2d0bHw7f2_eyt4UbnNR3mmOfPN3J_6LG8p1g_fVgfezt4I7vXr_LLVGHlzeaEBh5JKBf3-fkJHdb7tJiPpM-t4VR5DQHyakY3x1Xg_I9fa_bx1uOWFe2bBeMfkYNms2Dg5G3oBECIP-O9dAmq4tEnbSk8xngForMznApmVKJ2uDRIWotdIkPF5wRTVNnaplltcemGIvKaE7dyCPGSp1WSWn2A0Bjv0U3_sRyJha3xDOXOwdhJNzNYW8F5gCvXMX3noYyGvxfE-NaJZbG9MbNZCMQRFafmNwz-A093VKeJMl0z5VmgEbLSNgPyqut05dK09GVkTnbmbVdpQBiCm-YYnVUHa_4hTIlu3_n_iT3iwmpT98QkXUMkTpoF4954-vb8loakjCnvnnW0d2PTp8LYh-ePYKy6ojtACwDfeRjCEHITEN5dWclgg1TVuJ10lqlQO_971xkxKJGJs3SnvuJEM7q0NWnTrnbKfsRdlgXU5ZuMiHXmG2GxyGFPSafpOdu88-w; lang=vi; _admin_session_id=c38ca72b-1a3d-e873-1c3c-4c8ea96935ab; .AspNetCore.Session=CfDJ8DA1016STPdNrAaTdK2HgWd9y3RxPdMw8o54%2FWOyVzz81BddsGzevkYFPtRiLQGSiEzRRMoCGQ6RBMq3eLB78Ri3KEcaXUADmkxXfNQmCOXp2pbddnJIcWJjWUKh9t31QBOtgR8nZQqTBrU9AL8nblfEFdFf7Jwlfmk%2F2Rr3YeMF; _ga_4NX0F91DEX=GS1.1.1727700346.57.1.1727700348.0.0.0; _ga=GA1.1.1357561029.1697356741; _ga_Z1V9QDBF2Q=GS1.1.1727700346.57.1.1727700349.0.0.0\"\n",
    "payload = {}\n",
    "headers = {\n",
    "  'Accept': 'application/json, text/plain, */*',\n",
    "  'Accept-Language': 'vi',\n",
    "  'Connection': 'keep-alive',\n",
    "  'Cookie': cookie,\n",
    "  'Referer': 'https://beanyfood.mysapogo.com/admin/orders?page=1&limit=20',\n",
    "  'Sec-Fetch-Dest': 'empty',\n",
    "  'Sec-Fetch-Mode': 'cors',\n",
    "  'Sec-Fetch-Site': 'same-origin',\n",
    "  'User-Agent': 'Mozilla/5.0 (Windows NT 10.0; Win64; x64) AppleWebKit/537.36 (KHTML, like Gecko) Chrome/128.0.0.0 Safari/537.36',\n",
    "  'X-Sapo-Client': 'sapo-frontend-v3',\n",
    "  'X-Sapo-ServiceId': 'sapo-frontend-v3',\n",
    "  'sec-ch-ua': '\"Chromium\";v=\"128\", \"Not;A=Brand\";v=\"24\", \"Google Chrome\";v=\"128\"',\n",
    "  'sec-ch-ua-mobile': '?0',\n",
    "  'sec-ch-ua-platform': '\"Windows\"'\n",
    "}\n",
    "\n",
    "response = requests.request(\"GET\", url, headers=headers, data=payload)\n"
   ],
   "outputs": [],
   "execution_count": 226
  },
  {
   "cell_type": "code",
   "id": "46eb41dd-7ad5-423c-ae0a-4d39f93ab856",
   "metadata": {
    "ExecuteTime": {
     "end_time": "2024-09-30T14:09:29.256686Z",
     "start_time": "2024-09-30T14:09:29.198172Z"
    }
   },
   "source": [
    "# load data\n",
    "data: dict = json.loads(response.text)"
   ],
   "outputs": [],
   "execution_count": 227
  },
  {
   "cell_type": "code",
   "id": "bf0e2b09-2a9e-43cb-9090-ccd3f93d9392",
   "metadata": {
    "ExecuteTime": {
     "end_time": "2024-09-30T14:09:29.973849Z",
     "start_time": "2024-09-30T14:09:29.964862Z"
    }
   },
   "source": [
    "created_ons = []\n",
    "codes = []\n",
    "customer_codes = []\n",
    "customer_names = []\n",
    "skus = []\n",
    "product_names = []\n",
    "lots_numbers = []\n",
    "dates = []\n",
    "units = []\n",
    "quantities = []\n",
    "gifts = []\n",
    "prices_sapo = []\n",
    "prices = []\n",
    "prices_before_tax = []\n",
    "stocks = []\n",
    "discount_sales = []\n",
    "discount_gifts = []\n",
    "totals = []\n",
    "unit_prices = []\n",
    "paids = []\n",
    "notes = []"
   ],
   "outputs": [],
   "execution_count": 228
  },
  {
   "metadata": {
    "ExecuteTime": {
     "end_time": "2024-09-30T14:09:30.946747Z",
     "start_time": "2024-09-30T14:09:30.936420Z"
    }
   },
   "cell_type": "code",
   "source": [
    "def insert_order_database(\n",
    "    created_on      ,\n",
    "    code            ,\n",
    "    customer_code   ,\n",
    "    customer_name   ,\n",
    "    sku             ,\n",
    "    product_name    ,\n",
    "    lot_number      ,\n",
    "    date            ,\n",
    "    unit            ,\n",
    "    quantity        ,\n",
    "    gift            ,\n",
    "    price_sapo      ,\n",
    "    price           ,\n",
    "    price_before_tax,\n",
    "    stock           ,\n",
    "    discount_sale   ,\n",
    "    discount_gift   ,\n",
    "    total           ,\n",
    "    unit_price      ,\n",
    "    paid            ,\n",
    "    note            ,\n",
    "):\n",
    "    mycursor = mydb.cursor()\n",
    "    sql = \"INSERT IGNORE  INTO `order` (created_on, code, customer_code, customer_name, sku, product_name, lot_number, date, unit, quantity, gift, price_sapo, price, price_before_tax, stock, discount_sale, discount_gift, total, unit_price, paid, note) VALUES (%s, %s, %s, %s, %s, %s, %s, %s, %s, %s, %s, %s, %s, %s, %s, %s, %s, %s, %s, %s, %s)\"\n",
    "    val = (created_on, code, customer_code, customer_name, sku, product_name, lot_number, date, unit, quantity, gift, price_sapo, price, price_before_tax, stock, discount_sale, discount_gift, total, unit_price, paid, note)\n",
    "    try:\n",
    "        mycursor.execute(sql, val)\n",
    "        \n",
    "        mydb.commit()\n",
    "    except :\n",
    "        raise    \n",
    "\n",
    "    \n",
    "    "
   ],
   "id": "57409b4f1ba13f3c",
   "outputs": [],
   "execution_count": 229
  },
  {
   "cell_type": "code",
   "id": "e91a1a31-c391-4812-b955-0ba515d85588",
   "metadata": {
    "scrolled": true,
    "ExecuteTime": {
     "end_time": "2024-09-30T14:09:32.166854Z",
     "start_time": "2024-09-30T14:09:32.006753Z"
    }
   },
   "source": [
    "for order in data[\"orders\"]:\n",
    "    if order[\"location_id\"] != 598184:\n",
    "        continue\n",
    "    created_on = order[\"created_on\"]\n",
    "    created_date = datetime.strptime(created_on,\"%Y-%m-%dT%H:%M:%SZ\")\n",
    "    created_on = datetime.strptime(created_on,\"%Y-%m-%dT%H:%M:%SZ\").strftime(\"%d/%m/%Y\")\n",
    "    code = order[\"code\"]\n",
    "    customer_code = order[\"customer_data\"][\"code\"]\n",
    "    customer_name = order[\"customer_data\"][\"name\"]\n",
    "    if \"Finelife\" in customer_name: continue\n",
    "    paid = True\n",
    "    if order[\"payment_status\"] == \"unpaid\":\n",
    "        paid = False\n",
    "    stock = \"CN HCM\"\n",
    "    for order_item in order[\"order_line_items\"]:\n",
    "        sku =  order_item[\"sku\"]\n",
    "        product_name = order_item[\"product_name\"]\n",
    "        unit = order_item[\"unit\"]\n",
    "        gift = 0\n",
    "        price_sapo = order_item[\"price\"]\n",
    "        price_before_tax = price_sapo / 1.08\n",
    "        price_before_tax = round(price_before_tax, 2)\n",
    "        price = 0\n",
    "        discount_sale = order_item[\"discount_rate\"]    \n",
    "        for lot in order_item[\"lots_dates\"]:\n",
    "            lots_number = lot[\"lots_number\"]\n",
    "            manufacture_date = datetime.strptime(lot[\"manufacture_date\"],\"%Y-%m-%dT%H:%M:%SZ\").strftime(\"%d/%m\")\n",
    "            expiration_date = datetime.strptime(lot[\"expiration_date\"],\"%Y-%m-%dT%H:%M:%SZ\").strftime(\"%d/%m\")\n",
    "            lots_date = manufacture_date + \"-\" + expiration_date\n",
    "            quantity = int(lot[\"quantity\"])\n",
    "            total = quantity * price_sapo * (1-discount_sale/100)\n",
    "            discount_gift = 0\n",
    "            if total == 0:\n",
    "                discount_gift = 100\n",
    "                discount_sale = 0\n",
    "            unit_price = total/quantity\n",
    "            # save data \n",
    "            created_ons.append(created_on)\n",
    "            codes.append(code)\n",
    "            customer_codes.append(customer_code)\n",
    "            customer_names.append(customer_name)\n",
    "            skus.append(sku)\n",
    "            product_names.append(product_name)\n",
    "            lots_numbers.append(lots_number)\n",
    "            dates.append(lots_date)\n",
    "            units.append(unit)\n",
    "            quantities.append(quantity)\n",
    "            gifts.append(gift)\n",
    "            prices_sapo.append(price_sapo)\n",
    "            prices.append(price)\n",
    "            prices_before_tax.append(price_before_tax)\n",
    "            stocks.append(stock)\n",
    "            discount_sales.append(discount_sale)\n",
    "            discount_gifts.append(discount_gift)\n",
    "            totals.append(total)\n",
    "            unit_prices.append(unit_price)\n",
    "            paids.append(paid)\n",
    "            notes.append(\"\")\n",
    "            insert_order_database(created_date, code, customer_code, customer_name, sku, product_name, lots_number, lots_date, unit, quantity, gift, price_sapo, price, price_before_tax, stock, discount_sale, discount_gift, total, unit_price, paid, \"\")"
   ],
   "outputs": [
    {
     "name": "stdout",
     "output_type": "stream",
     "text": [
      "(datetime.datetime(2024, 9, 30, 8, 52, 41), 'SON07752', 'CUZN00263', 'Khách Lẻ CN HCM', 'BNSOYA3', 'TÀO PHỚ TRUYỀN THỐNG BEANY 150G', 'LOT240921', '25/09-04/10', 'Ly', 10, 0, 15000, 0, 13888.89, 'CN HCM', 0.0, 0, 150000.0, 15000.0, False, '')\n",
      "(datetime.datetime(2024, 9, 30, 2, 1, 46), 'SON07742', 'CUZN00160', 'Chị Thảo BNI', 'BNTOFU2', 'ĐẬU HŨ MỀM BEANY 300G', 'LOT240915', '18/09-10/10', 'Hộp', 1, 0, 14000, 0, 12962.96, 'CN HCM', 20.0, 0, 11200.0, 11200.0, False, '')\n",
      "(datetime.datetime(2024, 9, 30, 2, 1, 46), 'SON07742', 'CUZN00160', 'Chị Thảo BNI', 'BNTOFU3', 'ĐẬU HŨ CHIÊN BEANY 280G', 'LOT240918', '22/09-14/10', 'Túi', 4, 0, 16000, 0, 14814.81, 'CN HCM', 20.0, 0, 51200.0, 12800.0, False, '')\n",
      "(datetime.datetime(2024, 9, 30, 1, 53, 14), 'SON07741', 'CUZN00138', 'TỪ THIỆN', 'BNSOYA3', 'TÀO PHỚ TRUYỀN THỐNG BEANY 150G', 'LOT240919', '23/09-02/10', 'Ly', 4, 0, 10000, 0, 9259.26, 'CN HCM', 0, 100, 0.0, 0.0, True, '')\n",
      "(datetime.datetime(2024, 9, 28, 3, 27, 36), 'SON07731', 'BNHCM41', 'Quán chay - QL 50', 'BNSOYA5', 'SỮA ĐẬU NÀNH BEANY 300ML (CÓ ĐƯỜNG)', 'LOT240923', '27/09-08/10', 'ml', 10, 0, 14000, 0, 12962.96, 'CN HCM', 40.0, 0, 84000.0, 8400.0, False, '')\n",
      "(datetime.datetime(2024, 9, 28, 3, 27, 36), 'SON07731', 'BNHCM41', 'Quán chay - QL 50', 'BNTOFU3', 'ĐẬU HŨ CHIÊN BEANY 280G', 'LOT240916', '19/09-11/10', 'Túi', 5, 0, 16000, 0, 14814.81, 'CN HCM', 12.0, 0, 70400.0, 14080.0, False, '')\n",
      "(datetime.datetime(2024, 9, 28, 3, 27, 36), 'SON07731', 'BNHCM41', 'Quán chay - QL 50', 'BNTOFU3', 'ĐẬU HŨ CHIÊN BEANY 280G', 'LOT240918', '22/09-14/10', 'Túi', 5, 0, 16000, 0, 14814.81, 'CN HCM', 12.0, 0, 70400.0, 14080.0, False, '')\n",
      "(datetime.datetime(2024, 9, 27, 6, 42, 32), 'SON07725', 'CUZN00082', 'Chào Khách _ Hoàng Nam', 'BNTOFU2', 'ĐẬU HŨ MỀM BEANY 300G', 'LOT240918', '22/09-14/10', 'Hộp', 5, 0, 14000, 0, 12962.96, 'CN HCM', 0.0, 0, 70000.0, 14000.0, True, '')\n",
      "(datetime.datetime(2024, 9, 27, 6, 42, 32), 'SON07725', 'CUZN00082', 'Chào Khách _ Hoàng Nam', 'BNTOFU1', 'ĐẬU HŨ TRẮNG BEANY 300G', 'LOT240918', '22/09-14/10', 'Hộp', 5, 0, 15000, 0, 13888.89, 'CN HCM', 0.0, 0, 75000.0, 15000.0, True, '')\n",
      "(datetime.datetime(2024, 9, 27, 6, 42, 32), 'SON07725', 'CUZN00082', 'Chào Khách _ Hoàng Nam', 'BNTOFU3', 'ĐẬU HŨ CHIÊN BEANY 280G', 'LOT240920', '24/09-16/10', 'Túi', 5, 0, 16000, 0, 14814.81, 'CN HCM', 0.0, 0, 80000.0, 16000.0, True, '')\n",
      "(datetime.datetime(2024, 9, 27, 6, 42, 32), 'SON07725', 'CUZN00082', 'Chào Khách _ Hoàng Nam', 'BNTOFU5', 'ĐẬU HŨ NON BEANY 220G', 'LOT240918', '22/09-14/10', 'Cây', 5, 0, 12000, 0, 11111.11, 'CN HCM', 0.0, 0, 60000.0, 12000.0, True, '')\n",
      "(datetime.datetime(2024, 9, 27, 6, 42, 32), 'SON07725', 'CUZN00082', 'Chào Khách _ Hoàng Nam', 'BNTOFU6', 'ĐẬU HŨ TRỨNG BEANY 220G', 'LOT240921', '25/09-17/10', 'Cây', 5, 0, 15000, 0, 13888.89, 'CN HCM', 0.0, 0, 75000.0, 15000.0, True, '')\n",
      "(datetime.datetime(2024, 9, 27, 6, 42, 31), 'SON07724', 'CUZN00138', 'TỪ THIỆN', 'BNSOYA5', 'SỮA ĐẬU NÀNH BEANY 300ML (CÓ ĐƯỜNG)', 'LOT240912', '15/09-26/09', 'ml', 9, 0, 12000, 0, 11111.11, 'CN HCM', 0, 100, 0.0, 0.0, True, '')\n",
      "(datetime.datetime(2024, 9, 27, 6, 42, 31), 'SON07724', 'CUZN00138', 'TỪ THIỆN', 'BNSOYA3', 'TÀO PHỚ TRUYỀN THỐNG BEANY 150G', 'LOT240915', '18/09-27/09', 'Ly', 16, 0, 10000, 0, 9259.26, 'CN HCM', 0, 100, 0.0, 0.0, True, '')\n",
      "(datetime.datetime(2024, 9, 27, 6, 42, 31), 'SON07724', 'CUZN00138', 'TỪ THIỆN', 'BNSOYA18', 'SỮA ĐẬU NÀNH BẠC HÀ BEANY 300ML (CÓ ĐƯỜNG)', 'LOT240914', '17/09-28/09', 'Chai', 9, 0, 14000, 0, 12962.96, 'CN HCM', 0, 100, 0.0, 0.0, True, '')\n",
      "(datetime.datetime(2024, 9, 27, 6, 42, 31), 'SON07724', 'CUZN00138', 'TỪ THIỆN', 'BNSOYA14', 'SỮA ĐẬU NÀNH MÈ ĐEN BEANY 300ML (CÓ ĐƯỜNG)', 'LOT240912', '15/09-26/09', 'Chai', 3, 0, 14000, 0, 12962.96, 'CN HCM', 0, 100, 0.0, 0.0, True, '')\n",
      "(datetime.datetime(2024, 9, 27, 6, 42, 9), 'SON07723', 'CUZN00138', 'TỪ THIỆN', 'BNTOFU2', 'ĐẬU HŨ MỀM BEANY 300G', 'LOT240903', '04/09-26/09', 'Hộp', 3, 0, 12000, 0, 11111.11, 'CN HCM', 0, 100, 0.0, 0.0, True, '')\n",
      "(datetime.datetime(2024, 9, 27, 6, 30, 25), 'SON07722', 'CUZN00020', 'Nguyễn Quốc Phong - Design Mrk', 'BNTOFU2', 'ĐẬU HŨ MỀM BEANY 300G', 'LOT240915', '18/09-10/10', 'Hộp', 1, 0, 14000, 0, 12962.96, 'CN HCM', 30.0, 0, 9800.0, 9800.0, True, '')\n",
      "(datetime.datetime(2024, 9, 27, 6, 30, 25), 'SON07722', 'CUZN00020', 'Nguyễn Quốc Phong - Design Mrk', 'BNTOFU3', 'ĐẬU HŨ CHIÊN BEANY 280G', 'LOT240916', '19/09-11/10', 'Túi', 1, 0, 16000, 0, 14814.81, 'CN HCM', 30.0, 0, 11200.0, 11200.0, True, '')\n",
      "(datetime.datetime(2024, 9, 27, 6, 30, 25), 'SON07722', 'CUZN00020', 'Nguyễn Quốc Phong - Design Mrk', 'BNSOYA5', 'SỮA ĐẬU NÀNH BEANY 300ML (CÓ ĐƯỜNG)', 'LOT240918', '22/09-03/10', 'ml', 3, 0, 14000, 0, 12962.96, 'CN HCM', 30.0, 0, 29399.999999999996, 9799.999999999998, True, '')\n",
      "(datetime.datetime(2024, 9, 27, 6, 19, 55), 'SON07721', 'BNHCM2', 'Anh Lâm _ Tàu Indochina Queen', 'BNTOFU1', 'ĐẬU HŨ TRẮNG BEANY 300G', 'LOT240918', '22/09-14/10', 'Hộp', 58, 0, 10780, 0, 9981.48, 'CN HCM', 0.0, 0, 625240.0, 10780.0, False, '')\n",
      "(datetime.datetime(2024, 9, 27, 6, 19, 55), 'SON07721', 'BNHCM2', 'Anh Lâm _ Tàu Indochina Queen', 'BNTOFU1', 'ĐẬU HŨ TRẮNG BEANY 300G', 'LOT240920', '24/09-16/10', 'Hộp', 36, 0, 10780, 0, 9981.48, 'CN HCM', 0.0, 0, 388080.0, 10780.0, False, '')\n",
      "(datetime.datetime(2024, 9, 27, 6, 19, 55), 'SON07721', 'BNHCM2', 'Anh Lâm _ Tàu Indochina Queen', 'BNTOFU1', 'ĐẬU HŨ TRẮNG BEANY 300G', 'LOT240921', '25/09-17/10', 'Hộp', 6, 0, 10780, 0, 9981.48, 'CN HCM', 0.0, 0, 64680.0, 10780.0, False, '')\n",
      "(datetime.datetime(2024, 9, 27, 2, 40, 15), 'SON07715', 'CUZN00029', 'Tặng Khách', 'BNTOFU1', 'ĐẬU HŨ TRẮNG BEANY 300G', 'LOT240916', '19/09-11/10', 'Hộp', 2, 0, 15000, 0, 13888.89, 'CN HCM', 0, 100, 0.0, 0.0, True, '')\n",
      "(datetime.datetime(2024, 9, 27, 2, 22, 21), 'SON07714', 'CUZN00269', 'Bếp Chay An Duyên', 'BNTOFU3', 'ĐẬU HŨ CHIÊN BEANY 280G', 'LOT240915', '18/09-10/10', 'Túi', 6, 0, 13500, 0, 12500.0, 'CN HCM', 0.0, 0, 81000.0, 13500.0, False, '')\n",
      "(datetime.datetime(2024, 9, 27, 2, 22, 21), 'SON07714', 'CUZN00269', 'Bếp Chay An Duyên', 'BNTOFU3', 'ĐẬU HŨ CHIÊN BEANY 280G', 'LOT240916', '19/09-11/10', 'Túi', 24, 0, 13500, 0, 12500.0, 'CN HCM', 0.0, 0, 324000.0, 13500.0, False, '')\n",
      "(datetime.datetime(2024, 9, 27, 2, 22, 21), 'SON07714', 'CUZN00269', 'Bếp Chay An Duyên', 'BNTOFU2', 'ĐẬU HŨ MỀM BEANY 300G', 'LOT240907', '09/09-01/10', 'Hộp', 6, 0, 11250, 0, 10416.67, 'CN HCM', 0.0, 0, 67500.0, 11250.0, False, '')\n",
      "(datetime.datetime(2024, 9, 27, 2, 22, 21), 'SON07714', 'CUZN00269', 'Bếp Chay An Duyên', 'BNTOFU2', 'ĐẬU HŨ MỀM BEANY 300G', 'LOT240912', '15/09-07/10', 'Hộp', 30, 0, 11250, 0, 10416.67, 'CN HCM', 0.0, 0, 337500.0, 11250.0, False, '')\n",
      "(datetime.datetime(2024, 9, 27, 2, 22, 21), 'SON07714', 'CUZN00269', 'Bếp Chay An Duyên', 'BNTOFU2', 'ĐẬU HŨ MỀM BEANY 300G', 'LOT240915', '18/09-10/10', 'Hộp', 9, 0, 11250, 0, 10416.67, 'CN HCM', 0.0, 0, 101250.0, 11250.0, False, '')\n",
      "(datetime.datetime(2024, 9, 27, 2, 22, 21), 'SON07714', 'CUZN00269', 'Bếp Chay An Duyên', 'BNTOFU1', 'ĐẬU HŨ TRẮNG BEANY 300G', 'LOT240915', '18/09-10/10', 'Hộp', 4, 0, 11250, 0, 10416.67, 'CN HCM', 0.0, 0, 45000.0, 11250.0, False, '')\n",
      "(datetime.datetime(2024, 9, 27, 2, 22, 21), 'SON07714', 'CUZN00269', 'Bếp Chay An Duyên', 'BNTOFU1', 'ĐẬU HŨ TRẮNG BEANY 300G', 'LOT240916', '19/09-11/10', 'Hộp', 4, 0, 11250, 0, 10416.67, 'CN HCM', 0.0, 0, 45000.0, 11250.0, False, '')\n",
      "(datetime.datetime(2024, 9, 26, 6, 28, 44), 'SON07710', 'BNHCM45', 'Mã Quốc Cường - NVVC', 'BNSOYA5', 'SỮA ĐẬU NÀNH BEANY 300ML (CÓ ĐƯỜNG)', 'LOT240918', '22/09-03/10', 'ml', 6, 0, 14000, 0, 12962.96, 'CN HCM', 20.0, 0, 67200.0, 11200.0, False, '')\n",
      "(datetime.datetime(2024, 9, 26, 6, 28, 44), 'SON07710', 'BNHCM45', 'Mã Quốc Cường - NVVC', 'BNSOYA3', 'TÀO PHỚ TRUYỀN THỐNG BEANY 150G', 'LOT240919', '23/09-02/10', 'Ly', 6, 0, 15000, 0, 13888.89, 'CN HCM', 20.0, 0, 72000.0, 12000.0, False, '')\n",
      "(datetime.datetime(2024, 9, 26, 4, 19, 38), 'SON07705', 'CUZN00138', 'TỪ THIỆN', 'BNSOYA5', 'SỮA ĐẬU NÀNH BEANY 300ML (CÓ ĐƯỜNG)', 'LOT240912', '15/09-26/09', 'ml', 7, 0, 12000, 0, 11111.11, 'CN HCM', 0, 100, 0.0, 0.0, True, '')\n",
      "(datetime.datetime(2024, 9, 26, 4, 19, 38), 'SON07705', 'CUZN00138', 'TỪ THIỆN', 'BNSOYA3', 'TÀO PHỚ TRUYỀN THỐNG BEANY 150G', 'LOT240914', '17/09-26/09', 'Ly', 15, 0, 10000, 0, 9259.26, 'CN HCM', 0, 100, 0.0, 0.0, True, '')\n",
      "(datetime.datetime(2024, 9, 26, 4, 19, 38), 'SON07705', 'CUZN00138', 'TỪ THIỆN', 'BNSOYA3', 'TÀO PHỚ TRUYỀN THỐNG BEANY 150G', 'LOT240915', '18/09-27/09', 'Ly', 2, 0, 10000, 0, 9259.26, 'CN HCM', 0, 0, 20000.0, 10000.0, True, '')\n",
      "(datetime.datetime(2024, 9, 26, 4, 19, 38), 'SON07705', 'CUZN00138', 'TỪ THIỆN', 'BNSOYA18', 'SỮA ĐẬU NÀNH BẠC HÀ BEANY 300ML (CÓ ĐƯỜNG)', 'LOT240914', '17/09-28/09', 'Chai', 5, 0, 14000, 0, 12962.96, 'CN HCM', 0, 100, 0.0, 0.0, True, '')\n",
      "(datetime.datetime(2024, 9, 26, 4, 19, 38), 'SON07705', 'CUZN00138', 'TỪ THIỆN', 'BNSOYA14', 'SỮA ĐẬU NÀNH MÈ ĐEN BEANY 300ML (CÓ ĐƯỜNG)', 'LOT240912', '15/09-26/09', 'Chai', 5, 0, 14000, 0, 12962.96, 'CN HCM', 0, 100, 0.0, 0.0, True, '')\n",
      "(datetime.datetime(2024, 9, 26, 3, 31, 2), 'SON07701', 'CUZN00138', 'TỪ THIỆN', 'BNTOFU2', 'ĐẬU HŨ MỀM BEANY 300G', 'LOT240903', '04/09-26/09', 'Hộp', 3, 0, 12000, 0, 11111.11, 'CN HCM', 0, 100, 0.0, 0.0, False, '')\n",
      "(datetime.datetime(2024, 9, 26, 3, 31, 2), 'SON07701', 'CUZN00138', 'TỪ THIỆN', 'BNSOYA3', 'TÀO PHỚ TRUYỀN THỐNG BEANY 150G', 'LOT240915', '18/09-27/09', 'Ly', 2, 0, 10000, 0, 9259.26, 'CN HCM', 0, 100, 0.0, 0.0, False, '')\n",
      "(datetime.datetime(2024, 9, 26, 1, 31, 38), 'SON07695', 'CUZN00160', 'Chị Thảo BNI', 'BNTOFU3', 'ĐẬU HŨ CHIÊN BEANY 280G', 'LOT240915', '18/09-10/10', 'Túi', 4, 0, 16000, 0, 14814.81, 'CN HCM', 20.0, 0, 51200.0, 12800.0, False, '')\n",
      "(datetime.datetime(2024, 9, 26, 1, 31, 38), 'SON07695', 'CUZN00160', 'Chị Thảo BNI', 'BNTOFU2', 'ĐẬU HŨ MỀM BEANY 300G', 'LOT240915', '18/09-10/10', 'Hộp', 1, 0, 14000, 0, 12962.96, 'CN HCM', 20.0, 0, 11200.0, 11200.0, False, '')\n",
      "(datetime.datetime(2024, 9, 24, 7, 4, 5), 'SON07679', 'CUZN00160', 'Chị Thảo BNI', 'BNTOFU3', 'ĐẬU HŨ CHIÊN BEANY 280G', 'LOT240915', '18/09-10/10', 'Túi', 4, 0, 16000, 0, 14814.81, 'CN HCM', 20.0, 0, 51200.0, 12800.0, False, '')\n",
      "(datetime.datetime(2024, 9, 24, 7, 4, 5), 'SON07679', 'CUZN00160', 'Chị Thảo BNI', 'BNTOFU1', 'ĐẬU HŨ TRẮNG BEANY 300G', 'LOT240915', '18/09-10/10', 'Hộp', 1, 0, 15000, 0, 13888.89, 'CN HCM', 20.0, 0, 12000.0, 12000.0, False, '')\n",
      "(datetime.datetime(2024, 9, 24, 5, 19, 21), 'SON07677', 'CUZN00138', 'TỪ THIỆN', 'BNSOYA5', 'SỮA ĐẬU NÀNH BEANY 300ML (CÓ ĐƯỜNG)', 'LOT240911', '13/09-24/09', 'ml', 6, 0, 12000, 0, 11111.11, 'CN HCM', 0, 100, 0.0, 0.0, True, '')\n",
      "(datetime.datetime(2024, 9, 24, 5, 19, 21), 'SON07677', 'CUZN00138', 'TỪ THIỆN', 'BNSOYA3', 'TÀO PHỚ TRUYỀN THỐNG BEANY 150G', 'LOT240912', '15/09-24/09', 'Ly', 3, 0, 10000, 0, 9259.26, 'CN HCM', 0, 100, 0.0, 0.0, True, '')\n",
      "(datetime.datetime(2024, 9, 24, 5, 19, 21), 'SON07677', 'CUZN00138', 'TỪ THIỆN', 'BNSOYA18', 'SỮA ĐẬU NÀNH BẠC HÀ BEANY 300ML (CÓ ĐƯỜNG)', 'LOT240911', '13/09-24/09', 'Chai', 10, 0, 14000, 0, 12962.96, 'CN HCM', 0, 100, 0.0, 0.0, True, '')\n",
      "(datetime.datetime(2024, 9, 24, 5, 19, 21), 'SON07677', 'CUZN00138', 'TỪ THIỆN', 'BNSOYA18', 'SỮA ĐẬU NÀNH BẠC HÀ BEANY 300ML (CÓ ĐƯỜNG)', 'LOT240909', '11/09-22/09', 'Chai', 9, 0, 14000, 0, 12962.96, 'CN HCM', 0, 0, 126000.0, 14000.0, True, '')\n",
      "(datetime.datetime(2024, 9, 24, 5, 19, 21), 'SON07677', 'CUZN00138', 'TỪ THIỆN', 'BNSOYA14', 'SỮA ĐẬU NÀNH MÈ ĐEN BEANY 300ML (CÓ ĐƯỜNG)', 'LOT240910', '12/09-23/09', 'Chai', 14, 0, 14000, 0, 12962.96, 'CN HCM', 0, 100, 0.0, 0.0, True, '')\n",
      "(datetime.datetime(2024, 9, 24, 3, 56, 15), 'SON07673', 'CUZN00138', 'TỪ THIỆN', 'BNTOFU2', 'ĐẬU HŨ MỀM BEANY 300G', 'LOT240903', '04/09-26/09', 'Hộp', 3, 0, 12000, 0, 11111.11, 'CN HCM', 0, 100, 0.0, 0.0, True, '')\n",
      "(datetime.datetime(2024, 9, 24, 3, 56, 15), 'SON07673', 'CUZN00138', 'TỪ THIỆN', 'BNSOYA5', 'SỮA ĐẬU NÀNH BEANY 300ML (CÓ ĐƯỜNG)', 'LOT240912', '15/09-26/09', 'ml', 7, 0, 12000, 0, 11111.11, 'CN HCM', 0, 100, 0.0, 0.0, True, '')\n",
      "(datetime.datetime(2024, 9, 24, 2, 49, 2), 'SON07671', 'CUZN00138', 'TỪ THIỆN', 'BNTOFU3', 'ĐẬU HŨ CHIÊN BEANY 280G', 'LOT240903', '04/09-26/09', 'Túi', 2, 0, 14000, 0, 12962.96, 'CN HCM', 0, 100, 0.0, 0.0, True, '')\n",
      "(datetime.datetime(2024, 9, 24, 2, 49, 2), 'SON07671', 'CUZN00138', 'TỪ THIỆN', 'BNTOFU2', 'ĐẬU HŨ MỀM BEANY 300G', 'LOT240903', '04/09-26/09', 'Hộp', 9, 0, 12000, 0, 11111.11, 'CN HCM', 0, 100, 0.0, 0.0, True, '')\n",
      "(datetime.datetime(2024, 9, 24, 2, 49, 2), 'SON07671', 'CUZN00138', 'TỪ THIỆN', 'BNSOYA5', 'SỮA ĐẬU NÀNH BEANY 300ML (CÓ ĐƯỜNG)', 'LOT240911', '13/09-24/09', 'ml', 10, 0, 12000, 0, 11111.11, 'CN HCM', 0, 100, 0.0, 0.0, True, '')\n",
      "(datetime.datetime(2024, 9, 24, 2, 49, 2), 'SON07671', 'CUZN00138', 'TỪ THIỆN', 'BNSOYA5', 'SỮA ĐẬU NÀNH BEANY 300ML (CÓ ĐƯỜNG)', 'LOT240910', '12/09-23/09', 'ml', 1, 0, 12000, 0, 11111.11, 'CN HCM', 0, 0, 12000.0, 12000.0, True, '')\n",
      "(datetime.datetime(2024, 9, 24, 2, 49, 2), 'SON07671', 'CUZN00138', 'TỪ THIỆN', 'BNSOYA3', 'TÀO PHỚ TRUYỀN THỐNG BEANY 150G', 'LOT240910', '12/09-21/09', 'Ly', 6, 0, 10000, 0, 9259.26, 'CN HCM', 0, 100, 0.0, 0.0, True, '')\n",
      "(datetime.datetime(2024, 9, 24, 2, 29, 24), 'SON07668', 'BNHCM33', 'Quán chay Hương Sen - Thu Thảo', 'BNTOFU3', 'ĐẬU HŨ CHIÊN BEANY 280G', 'LOT240915', '18/09-10/10', 'Túi', 10, 0, 16000, 0, 14814.81, 'CN HCM', 16.0, 0, 134400.0, 13440.0, False, '')\n",
      "(datetime.datetime(2024, 9, 24, 2, 29, 24), 'SON07668', 'BNHCM33', 'Quán chay Hương Sen - Thu Thảo', 'BNSOYA5', 'SỮA ĐẬU NÀNH BEANY 300ML (CÓ ĐƯỜNG)', 'LOT240918', '22/09-03/10', 'ml', 10, 0, 14000, 0, 12962.96, 'CN HCM', 0.0, 0, 140000.0, 14000.0, False, '')\n",
      "(datetime.datetime(2024, 9, 24, 2, 29, 24), 'SON07668', 'BNHCM33', 'Quán chay Hương Sen - Thu Thảo', 'BNSOYA3', 'TÀO PHỚ TRUYỀN THỐNG BEANY 150G', 'LOT240918', '22/09-01/10', 'Ly', 10, 0, 15000, 0, 13888.89, 'CN HCM', 0.0, 0, 150000.0, 15000.0, False, '')\n",
      "(datetime.datetime(2024, 9, 23, 4, 34, 16), 'SON07662', 'CUZN00138', 'TỪ THIỆN', 'BNSOYA18', 'SỮA ĐẬU NÀNH BẠC HÀ BEANY 300ML (CÓ ĐƯỜNG)', 'LOT240911', '13/09-24/09', 'Chai', 2, 0, 14000, 0, 12962.96, 'CN HCM', 0, 100, 0.0, 0.0, True, '')\n",
      "(datetime.datetime(2024, 9, 23, 4, 34, 16), 'SON07662', 'CUZN00138', 'TỪ THIỆN', 'BNSOYA3', 'TÀO PHỚ TRUYỀN THỐNG BEANY 150G', 'LOT240912', '15/09-24/09', 'Ly', 4, 0, 10000, 0, 9259.26, 'CN HCM', 0, 100, 0.0, 0.0, True, '')\n",
      "(datetime.datetime(2024, 9, 23, 2, 57, 20), 'SON07656', 'CUZN00138', 'TỪ THIỆN', 'BNTOFU3', 'ĐẬU HŨ CHIÊN BEANY 280G', 'LOT240903', '04/09-26/09', 'Túi', 2, 0, 14000, 0, 12962.96, 'CN HCM', 0, 100, 0.0, 0.0, True, '')\n",
      "(datetime.datetime(2024, 9, 23, 2, 57, 20), 'SON07656', 'CUZN00138', 'TỪ THIỆN', 'BNTOFU2', 'ĐẬU HŨ MỀM BEANY 300G', 'LOT240903', '04/09-26/09', 'Hộp', 1, 0, 12000, 0, 11111.11, 'CN HCM', 0, 100, 0.0, 0.0, True, '')\n",
      "(datetime.datetime(2024, 9, 23, 2, 57, 20), 'SON07656', 'CUZN00138', 'TỪ THIỆN', 'BNSOYA5', 'SỮA ĐẬU NÀNH BEANY 300ML (CÓ ĐƯỜNG)', 'LOT240909', '11/09-22/09', 'ml', 7, 0, 12000, 0, 11111.11, 'CN HCM', 0, 100, 0.0, 0.0, True, '')\n",
      "(datetime.datetime(2024, 9, 23, 2, 57, 20), 'SON07656', 'CUZN00138', 'TỪ THIỆN', 'BNSOYA3', 'TÀO PHỚ TRUYỀN THỐNG BEANY 150G', 'LOT240909', '11/09-20/09', 'Ly', 3, 0, 10000, 0, 9259.26, 'CN HCM', 0, 100, 0.0, 0.0, True, '')\n",
      "(datetime.datetime(2024, 9, 23, 2, 52, 45), 'SON07655', 'BNHCM2', 'Anh Lâm _ Tàu Indochina Queen', 'BNTOFU1', 'ĐẬU HŨ TRẮNG BEANY 300G', 'LOT240915', '18/09-10/10', 'Hộp', 100, 0, 10780, 0, 9981.48, 'CN HCM', 0.0, 0, 1078000.0, 10780.0, False, '')\n"
     ]
    }
   ],
   "execution_count": 230
  },
  {
   "cell_type": "code",
   "id": "3ff96446-b6dc-46cf-8559-9765a0190980",
   "metadata": {
    "ExecuteTime": {
     "end_time": "2024-09-30T14:09:55.158508Z",
     "start_time": "2024-09-30T14:09:55.113246Z"
    }
   },
   "source": [
    "\n",
    "data = {\n",
    "    \"created_on\": created_ons,\n",
    "    \"code\": codes,\n",
    "    \"customer_code\": customer_codes,\n",
    "    \"customer_name\": customer_names,\n",
    "    \"sku\": skus,\n",
    "    \"product_name\": product_names,\n",
    "    \"lots_number\": lots_numbers,\n",
    "    \"date\": dates,\n",
    "    \"unit\": units,\n",
    "    \"quantity\": quantities,\n",
    "    \"gift\": gifts,\n",
    "    \"price_sapo\": prices_sapo,\n",
    "    \"price\": prices,\n",
    "    \"price_before_tax\": prices_before_tax,\n",
    "    \"stock\": stocks,\n",
    "    \"discount_sale\": discount_sales,\n",
    "    \"discount_gift\": discount_gifts,\n",
    "    \"total\": totals,\n",
    "    \"unit_price\": unit_prices,\n",
    "    \"paid\": paids,\n",
    "    \"note\": notes\n",
    "}\n",
    "\n",
    "# Create a DataFrame\n",
    "df = pd.DataFrame(data)"
   ],
   "outputs": [],
   "execution_count": 231
  },
  {
   "cell_type": "code",
   "id": "569baf59-98a6-41d9-accc-06880d1ef105",
   "metadata": {
    "ExecuteTime": {
     "end_time": "2024-09-30T14:09:55.990973Z",
     "start_time": "2024-09-30T14:09:55.963938Z"
    }
   },
   "source": [
    "df.to_csv('output.csv', index=False)"
   ],
   "outputs": [],
   "execution_count": 232
  },
  {
   "cell_type": "code",
   "id": "557c3732-92fa-4a5d-b558-fc0ab1ef1b86",
   "metadata": {
    "ExecuteTime": {
     "end_time": "2024-09-30T14:09:56.535056Z",
     "start_time": "2024-09-30T14:09:56.527997Z"
    }
   },
   "source": "mydb.close()",
   "outputs": [],
   "execution_count": 233
  }
 ],
 "metadata": {
  "kernelspec": {
   "display_name": "Python 3 (ipykernel)",
   "language": "python",
   "name": "python3"
  },
  "language_info": {
   "codemirror_mode": {
    "name": "ipython",
    "version": 3
   },
   "file_extension": ".py",
   "mimetype": "text/x-python",
   "name": "python",
   "nbconvert_exporter": "python",
   "pygments_lexer": "ipython3",
   "version": "3.12.3"
  }
 },
 "nbformat": 4,
 "nbformat_minor": 5
}
