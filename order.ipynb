{
 "cells": [
  {
   "cell_type": "code",
   "id": "a579c2ec-c778-4e77-91a9-e086fdaacc59",
   "metadata": {
    "ExecuteTime": {
     "end_time": "2024-09-23T12:41:32.136123Z",
     "start_time": "2024-09-23T12:41:30.938909Z"
    }
   },
   "source": [
    "import requests\n",
    "import json\n",
    "import pandas as pd\n",
    "from datetime import datetime"
   ],
   "outputs": [],
   "execution_count": 2
  },
  {
   "cell_type": "code",
   "id": "743482df-eb82-43e6-80c3-46e5979d41f9",
   "metadata": {
    "scrolled": true,
    "ExecuteTime": {
     "end_time": "2024-09-23T13:19:53.906720Z",
     "start_time": "2024-09-23T13:19:53.222791Z"
    }
   },
   "source": [
    "url = \"https://beanyfood.mysapogo.com/admin/orders.json?page=1&limit=100\"\n",
    "cookie = \"report_ver=3; _fw_crm_v=b03a9b5b-9cdb-4d81-ab85-c51c8076a2ee; _fbp=fb.1.1722010576000.953081039792325240; _gid=GA1.2.1309095844.1727093848; sapo-admin=CfDJ8DA1016STPdNrAaTdK2HgWezJvDLuzWt9H9UYVbHnKoC5hmGaDXYfOuJbnl2FkOUi066IPTm-I6LGyHyDdzk_rly-n0_HgINFzGdc_kNHddOB0G7mev2nocaLlk2YairKczE3A_tjlEKhuoqhhHMgc7CZy29u5wdsdo2shtXsq2muJGNiMPoIcpbaX8rr8rcFw9iIQuifnN-ajuFMvyBiZleauHvCDNrk6DqhjIbDrj1aKBgXsUD1KAzmt30RjuYmKTG9sANL9OTTF-IsDxxdkxt0XCWkJYjCAqSR2J3FqtcNTd9jynfoAe-Ng3-XUIgle3WHlGv96Ob9EFbzmHNllirgJVCZ7gFknv_L-1JiPN11Ac-qzeMFytofzt-EdxXMf26JZB2dfjJRmzUoFkgsZVEY2vb7cfN02lU7nNLbMTCQ9VXAVf2Oid9Y1as4ZDOhxcHscCPYpWPxr-IFJ_XotUo2pDvXnSYjWTvJV7sZSvmqaWZMH2LfmpO-BTXHaEocujiGdGBR1xBjFwlRGq_o_2tRI62_iMCyoAqjUhUG24EbnScJVCxc7sed815n9ZhkyahHEBcuVE2pNR369xSZwuCaEzSngHm6S96Vf9BhO2Ysxk3FwP6dlKU3u2VrjxVTA; lang=vi; _admin_session_id=22972065-e46a-8a30-5a41-4b09bafa623c; .AspNetCore.Session=CfDJ8DA1016STPdNrAaTdK2HgWd3nFuS%2FNFRzK51VF5OxCtmvDYTQa1vX0B12XUuf5jno2mAdEfidZkyYn%2F3UsnzvQfwp6e8Ecc8uS%2B9PvAC%2BOnvfrpIYelimOiCwKXRbMgJafFXmRDZJAGMi4zTsBWRo15b7WrkYx5C3jXmVFXIziws; _ga_4NX0F91DEX=GS1.1.1727093848.48.1.1727093850.0.0.0; _ga=GA1.1.1357561029.1697356741; _ga_Z1V9QDBF2Q=GS1.1.1727093848.47.1.1727095593.0.0.0\"\n",
    "payload = {}\n",
    "headers = {\n",
    "  'Accept': 'application/json, text/plain, */*',\n",
    "  'Accept-Language': 'vi',\n",
    "  'Connection': 'keep-alive',\n",
    "  'Cookie': cookie,\n",
    "  'Referer': 'https://beanyfood.mysapogo.com/admin/orders?page=1&limit=20',\n",
    "  'Sec-Fetch-Dest': 'empty',\n",
    "  'Sec-Fetch-Mode': 'cors',\n",
    "  'Sec-Fetch-Site': 'same-origin',\n",
    "  'User-Agent': 'Mozilla/5.0 (Windows NT 10.0; Win64; x64) AppleWebKit/537.36 (KHTML, like Gecko) Chrome/128.0.0.0 Safari/537.36',\n",
    "  'X-Sapo-Client': 'sapo-frontend-v3',\n",
    "  'X-Sapo-ServiceId': 'sapo-frontend-v3',\n",
    "  'sec-ch-ua': '\"Chromium\";v=\"128\", \"Not;A=Brand\";v=\"24\", \"Google Chrome\";v=\"128\"',\n",
    "  'sec-ch-ua-mobile': '?0',\n",
    "  'sec-ch-ua-platform': '\"Windows\"'\n",
    "}\n",
    "\n",
    "response = requests.request(\"GET\", url, headers=headers, data=payload)\n"
   ],
   "outputs": [],
   "execution_count": 23
  },
  {
   "cell_type": "code",
   "id": "46eb41dd-7ad5-423c-ae0a-4d39f93ab856",
   "metadata": {
    "ExecuteTime": {
     "end_time": "2024-09-23T13:19:56.074320Z",
     "start_time": "2024-09-23T13:19:56.003572Z"
    }
   },
   "source": [
    "# load data\n",
    "data: dict = json.loads(response.text)"
   ],
   "outputs": [],
   "execution_count": 24
  },
  {
   "cell_type": "code",
   "id": "bf0e2b09-2a9e-43cb-9090-ccd3f93d9392",
   "metadata": {
    "ExecuteTime": {
     "end_time": "2024-09-23T13:19:57.227681Z",
     "start_time": "2024-09-23T13:19:57.212952Z"
    }
   },
   "source": [
    "created_ons = []\n",
    "codes = []\n",
    "customer_codes = []\n",
    "customer_names = []\n",
    "skus = []\n",
    "product_names = []\n",
    "lots_numbers = []\n",
    "dates = []\n",
    "units = []\n",
    "quantities = []\n",
    "gifts = []\n",
    "prices_sapo = []\n",
    "prices = []\n",
    "prices_before_tax = []\n",
    "stocks = []\n",
    "discount_sales = []\n",
    "discount_gifts = []\n",
    "totals = []\n",
    "unit_prices = []\n",
    "paids = []\n",
    "notes = []"
   ],
   "outputs": [],
   "execution_count": 25
  },
  {
   "cell_type": "code",
   "id": "e91a1a31-c391-4812-b955-0ba515d85588",
   "metadata": {
    "scrolled": true,
    "ExecuteTime": {
     "end_time": "2024-09-23T13:19:58.678121Z",
     "start_time": "2024-09-23T13:19:58.598660Z"
    }
   },
   "source": [
    "for order in data[\"orders\"]:\n",
    "    if order[\"location_id\"] != 598184:\n",
    "        continue\n",
    "    created_on = order[\"created_on\"]\n",
    "    created_on = datetime.strptime(created_on,\"%Y-%m-%dT%H:%M:%SZ\").strftime(\"%d/%m/%Y\")\n",
    "    code = order[\"code\"]\n",
    "    customer_code = order[\"customer_data\"][\"code\"]\n",
    "    customer_name = order[\"customer_data\"][\"name\"]\n",
    "    if \"Finelife\" in customer_name: continue\n",
    "    paid = True\n",
    "    if order[\"payment_status\"] == \"unpaid\":\n",
    "        paid = False\n",
    "    stock = \"CN HCM\"\n",
    "    for order_item in order[\"order_line_items\"]:\n",
    "        sku =  order_item[\"sku\"]\n",
    "        product_name = order_item[\"product_name\"]\n",
    "        unit = order_item[\"unit\"]\n",
    "        gift = 0\n",
    "        price_sapo = order_item[\"price\"]\n",
    "        price_before_tax = price_sapo / 1.08\n",
    "        price_before_tax = round(price_before_tax, 2)\n",
    "        price = 0\n",
    "        discount_sale = order_item[\"discount_rate\"]    \n",
    "        for lot in order_item[\"lots_dates\"]:\n",
    "            lots_number = lot[\"lots_number\"]\n",
    "            manufacture_date = datetime.strptime(lot[\"manufacture_date\"],\"%Y-%m-%dT%H:%M:%SZ\").strftime(\"%d/%m\")\n",
    "            expiration_date = datetime.strptime(lot[\"expiration_date\"],\"%Y-%m-%dT%H:%M:%SZ\").strftime(\"%d/%m\")\n",
    "            lots_date = manufacture_date + \"-\" + expiration_date\n",
    "            quantity = int(lot[\"quantity\"])\n",
    "            total = quantity * price_sapo * (1-discount_sale/100)\n",
    "            discount_gift = 0\n",
    "            if total == 0:\n",
    "                discount_gift = 100\n",
    "                discount_sale = 0\n",
    "            unit_price = total/quantity\n",
    "            # save data \n",
    "            created_ons.append(created_on)\n",
    "            codes.append(code)\n",
    "            customer_codes.append(customer_code)\n",
    "            customer_names.append(customer_name)\n",
    "            skus.append(sku)\n",
    "            product_names.append(product_name)\n",
    "            lots_numbers.append(lots_number)\n",
    "            dates.append(lots_date)\n",
    "            units.append(unit)\n",
    "            quantities.append(quantity)\n",
    "            gifts.append(gift)\n",
    "            prices_sapo.append(price_sapo)\n",
    "            prices.append(price)\n",
    "            prices_before_tax.append(price_before_tax)\n",
    "            stocks.append(stock)\n",
    "            discount_sales.append(discount_sale)\n",
    "            discount_gifts.append(discount_gift)\n",
    "            totals.append(total)\n",
    "            unit_prices.append(unit_price)\n",
    "            paids.append(paid)\n",
    "            notes.append(\"\")"
   ],
   "outputs": [],
   "execution_count": 26
  },
  {
   "cell_type": "code",
   "id": "3ff96446-b6dc-46cf-8559-9765a0190980",
   "metadata": {
    "ExecuteTime": {
     "end_time": "2024-09-23T13:20:00.051476Z",
     "start_time": "2024-09-23T13:20:00.024910Z"
    }
   },
   "source": [
    "\n",
    "data = {\n",
    "    \"created_on\": created_ons,\n",
    "    \"code\": codes,\n",
    "    \"customer_code\": customer_codes,\n",
    "    \"customer_name\": customer_names,\n",
    "    \"sku\": skus,\n",
    "    \"product_name\": product_names,\n",
    "    \"lots_number\": lots_numbers,\n",
    "    \"date\": dates,\n",
    "    \"unit\": units,\n",
    "    \"quantity\": quantities,\n",
    "    \"gift\": gifts,\n",
    "    \"price_sapo\": prices_sapo,\n",
    "    \"price\": prices,\n",
    "    \"price_before_tax\": prices_before_tax,\n",
    "    \"stock\": stocks,\n",
    "    \"discount_sale\": discount_sales,\n",
    "    \"discount_gift\": discount_gifts,\n",
    "    \"total\": totals,\n",
    "    \"unit_price\": unit_prices,\n",
    "    \"paid\": paids,\n",
    "    \"note\": notes\n",
    "}\n",
    "\n",
    "# Create a DataFrame\n",
    "df = pd.DataFrame(data)"
   ],
   "outputs": [],
   "execution_count": 27
  },
  {
   "cell_type": "code",
   "id": "569baf59-98a6-41d9-accc-06880d1ef105",
   "metadata": {
    "ExecuteTime": {
     "end_time": "2024-09-23T13:20:01.100828Z",
     "start_time": "2024-09-23T13:20:01.084095Z"
    }
   },
   "source": [
    "df.to_csv('output.csv', index=False)"
   ],
   "outputs": [],
   "execution_count": 28
  },
  {
   "cell_type": "code",
   "execution_count": null,
   "id": "557c3732-92fa-4a5d-b558-fc0ab1ef1b86",
   "metadata": {},
   "outputs": [],
   "source": []
  }
 ],
 "metadata": {
  "kernelspec": {
   "display_name": "Python 3 (ipykernel)",
   "language": "python",
   "name": "python3"
  },
  "language_info": {
   "codemirror_mode": {
    "name": "ipython",
    "version": 3
   },
   "file_extension": ".py",
   "mimetype": "text/x-python",
   "name": "python",
   "nbconvert_exporter": "python",
   "pygments_lexer": "ipython3",
   "version": "3.12.3"
  }
 },
 "nbformat": 4,
 "nbformat_minor": 5
}
