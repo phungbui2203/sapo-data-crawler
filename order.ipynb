{
 "cells": [
  {
   "cell_type": "code",
   "id": "a579c2ec-c778-4e77-91a9-e086fdaacc59",
   "metadata": {
    "ExecuteTime": {
     "end_time": "2024-10-02T13:03:14.407875Z",
     "start_time": "2024-10-02T13:03:12.252833Z"
    }
   },
   "source": [
    "import requests\n",
    "import json\n",
    "import pandas as pd\n",
    "from datetime import datetime\n",
    "import mysql.connector\n"
   ],
   "outputs": [],
   "execution_count": 2
  },
  {
   "metadata": {
    "ExecuteTime": {
     "end_time": "2024-10-02T13:03:15.770419Z",
     "start_time": "2024-10-02T13:03:15.622900Z"
    }
   },
   "cell_type": "code",
   "source": [
    "mydb = mysql.connector.connect(\n",
    "    host=\"localhost\",\n",
    "    user=\"root\",\n",
    "    password=\"admin\",\n",
    "    database=\"sapo_data\",\n",
    "    charset=\"utf8mb4\"\n",
    ")"
   ],
   "id": "13a97b3776aeae15",
   "outputs": [],
   "execution_count": 3
  },
  {
   "cell_type": "code",
   "id": "743482df-eb82-43e6-80c3-46e5979d41f9",
   "metadata": {
    "scrolled": true,
    "ExecuteTime": {
     "end_time": "2024-10-02T13:03:18.539159Z",
     "start_time": "2024-10-02T13:03:18.298804Z"
    }
   },
   "source": [
    "url = \"https://yoururl/admin/orders.json?page=1&limit=100\"\n",
    "cookie = \"report_ver=3; _fw_crm_v=b03a9b5b-9cdb-4d81-ab85-c51c8076a2ee; _fbp=fb.1.1722010576000.953081039792325240; _gid=GA1.2.421020518.1727614808; _gat_gtag_UA_66880228_3=1; sapo-admin=CfDJ8DA1016STPdNrAaTdK2HgWfxhsoRYw9VbP9VUnDSNE2WlEuyslidCqjA_1_a1xy_5a4YQKJLlxeoGjapLLCfdUKaFJ46-X2GTWpIP7rVxkNBXC6J7aQO4ca86AWBoC2d0bHw7f2_eyt4UbnNR3mmOfPN3J_6LG8p1g_fVgfezt4I7vXr_LLVGHlzeaEBh5JKBf3-fkJHdb7tJiPpM-t4VR5DQHyakY3x1Xg_I9fa_bx1uOWFe2bBeMfkYNms2Dg5G3oBECIP-O9dAmq4tEnbSk8xngForMznApmVKJ2uDRIWotdIkPF5wRTVNnaplltcemGIvKaE7dyCPGSp1WSWn2A0Bjv0U3_sRyJha3xDOXOwdhJNzNYW8F5gCvXMX3noYyGvxfE-NaJZbG9MbNZCMQRFafmNwz-A093VKeJMl0z5VmgEbLSNgPyqut05dK09GVkTnbmbVdpQBiCm-YYnVUHa_4hTIlu3_n_iT3iwmpT98QkXUMkTpoF4954-vb8loakjCnvnnW0d2PTp8LYh-ePYKy6ojtACwDfeRjCEHITEN5dWclgg1TVuJ10lqlQO_971xkxKJGJs3SnvuJEM7q0NWnTrnbKfsRdlgXU5ZuMiHXmG2GxyGFPSafpOdu88-w; lang=vi; _admin_session_id=c38ca72b-1a3d-e873-1c3c-4c8ea96935ab; .AspNetCore.Session=CfDJ8DA1016STPdNrAaTdK2HgWd9y3RxPdMw8o54%2FWOyVzz81BddsGzevkYFPtRiLQGSiEzRRMoCGQ6RBMq3eLB78Ri3KEcaXUADmkxXfNQmCOXp2pbddnJIcWJjWUKh9t31QBOtgR8nZQqTBrU9AL8nblfEFdFf7Jwlfmk%2F2Rr3YeMF; _ga_4NX0F91DEX=GS1.1.1727700346.57.1.1727700348.0.0.0; _ga=GA1.1.1357561029.1697356741; _ga_Z1V9QDBF2Q=GS1.1.1727700346.57.1.1727700349.0.0.0\"\n",
    "payload = {}\n",
    "headers = {\n",
    "  'Cookie': cookie,\n",
    "}\n",
    "\n",
    "response = requests.request(\"GET\", url, headers=headers, data=payload)\n"
   ],
   "outputs": [],
   "execution_count": 4
  },
  {
   "cell_type": "code",
   "id": "46eb41dd-7ad5-423c-ae0a-4d39f93ab856",
   "metadata": {
    "ExecuteTime": {
     "end_time": "2024-09-30T14:09:29.256686Z",
     "start_time": "2024-09-30T14:09:29.198172Z"
    }
   },
   "source": [
    "# load data\n",
    "data: dict = json.loads(response.text)"
   ],
   "outputs": [],
   "execution_count": 227
  },
  {
   "cell_type": "code",
   "id": "bf0e2b09-2a9e-43cb-9090-ccd3f93d9392",
   "metadata": {
    "ExecuteTime": {
     "end_time": "2024-10-02T13:03:23.028973Z",
     "start_time": "2024-10-02T13:03:23.014189Z"
    }
   },
   "source": [
    "created_ons = []\n",
    "codes = []\n",
    "customer_codes = []\n",
    "customer_names = []\n",
    "skus = []\n",
    "product_names = []\n",
    "lots_numbers = []\n",
    "dates = []\n",
    "units = []\n",
    "quantities = []\n",
    "gifts = []\n",
    "prices_sapo = []\n",
    "prices = []\n",
    "prices_before_tax = []\n",
    "stocks = []\n",
    "discount_sales = []\n",
    "discount_gifts = []\n",
    "totals = []\n",
    "unit_prices = []\n",
    "paids = []\n",
    "notes = []"
   ],
   "outputs": [],
   "execution_count": 5
  },
  {
   "metadata": {
    "ExecuteTime": {
     "end_time": "2024-10-02T13:03:24.676743Z",
     "start_time": "2024-10-02T13:03:24.664271Z"
    }
   },
   "cell_type": "code",
   "source": [
    "def insert_order_database(\n",
    "    created_on      ,\n",
    "    code            ,\n",
    "    customer_code   ,\n",
    "    customer_name   ,\n",
    "    sku             ,\n",
    "    product_name    ,\n",
    "    lot_number      ,\n",
    "    date            ,\n",
    "    unit            ,\n",
    "    quantity        ,\n",
    "    gift            ,\n",
    "    price_sapo      ,\n",
    "    price           ,\n",
    "    price_before_tax,\n",
    "    stock           ,\n",
    "    discount_sale   ,\n",
    "    discount_gift   ,\n",
    "    total           ,\n",
    "    unit_price      ,\n",
    "    paid            ,\n",
    "    note            ,\n",
    "):\n",
    "    mycursor = mydb.cursor()\n",
    "    sql = \"INSERT IGNORE  INTO `order` (created_on, code, customer_code, customer_name, sku, product_name, lot_number, date, unit, quantity, gift, price_sapo, price, price_before_tax, stock, discount_sale, discount_gift, total, unit_price, paid, note) VALUES (%s, %s, %s, %s, %s, %s, %s, %s, %s, %s, %s, %s, %s, %s, %s, %s, %s, %s, %s, %s, %s)\"\n",
    "    val = (created_on, code, customer_code, customer_name, sku, product_name, lot_number, date, unit, quantity, gift, price_sapo, price, price_before_tax, stock, discount_sale, discount_gift, total, unit_price, paid, note)\n",
    "    try:\n",
    "        mycursor.execute(sql, val)\n",
    "        \n",
    "        mydb.commit()\n",
    "    except:\n",
    "        raise    \n",
    "\n",
    "    \n",
    "    "
   ],
   "id": "57409b4f1ba13f3c",
   "outputs": [],
   "execution_count": 6
  },
  {
   "cell_type": "code",
   "id": "e91a1a31-c391-4812-b955-0ba515d85588",
   "metadata": {
    "scrolled": true,
    "ExecuteTime": {
     "end_time": "2024-10-02T13:03:26.722053Z",
     "start_time": "2024-10-02T13:03:26.401102Z"
    }
   },
   "source": [
    "for order in data[\"orders\"]:\n",
    "    if order[\"location_id\"] != 598184:\n",
    "        continue\n",
    "    created_on = order[\"created_on\"]\n",
    "    created_date = datetime.strptime(created_on,\"%Y-%m-%dT%H:%M:%SZ\")\n",
    "    created_on = datetime.strptime(created_on,\"%Y-%m-%dT%H:%M:%SZ\").strftime(\"%d/%m/%Y\")\n",
    "    code = order[\"code\"]\n",
    "    customer_code = order[\"customer_data\"][\"code\"]\n",
    "    customer_name = order[\"customer_data\"][\"name\"]\n",
    "    if \"Finelife\" in customer_name: continue\n",
    "    paid = True\n",
    "    if order[\"payment_status\"] == \"unpaid\":\n",
    "        paid = False\n",
    "    stock = \"CN HCM\"\n",
    "    for order_item in order[\"order_line_items\"]:\n",
    "        sku =  order_item[\"sku\"]\n",
    "        product_name = order_item[\"product_name\"]\n",
    "        unit = order_item[\"unit\"]\n",
    "        gift = 0\n",
    "        price_sapo = order_item[\"price\"]\n",
    "        price_before_tax = price_sapo / 1.08\n",
    "        price_before_tax = round(price_before_tax, 2)\n",
    "        price = 0\n",
    "        discount_sale = order_item[\"discount_rate\"]    \n",
    "        for lot in order_item[\"lots_dates\"]:\n",
    "            lots_number = lot[\"lots_number\"]\n",
    "            manufacture_date = datetime.strptime(lot[\"manufacture_date\"],\"%Y-%m-%dT%H:%M:%SZ\").strftime(\"%d/%m\")\n",
    "            expiration_date = datetime.strptime(lot[\"expiration_date\"],\"%Y-%m-%dT%H:%M:%SZ\").strftime(\"%d/%m\")\n",
    "            lots_date = manufacture_date + \"-\" + expiration_date\n",
    "            quantity = int(lot[\"quantity\"])\n",
    "            total = quantity * price_sapo * (1-discount_sale/100)\n",
    "            discount_gift = 0\n",
    "            if total == 0:\n",
    "                discount_gift = 100\n",
    "                discount_sale = 0\n",
    "            unit_price = total/quantity\n",
    "            # save data \n",
    "            created_ons.append(created_on)\n",
    "            codes.append(code)\n",
    "            customer_codes.append(customer_code)\n",
    "            customer_names.append(customer_name)\n",
    "            skus.append(sku)\n",
    "            product_names.append(product_name)\n",
    "            lots_numbers.append(lots_number)\n",
    "            dates.append(lots_date)\n",
    "            units.append(unit)\n",
    "            quantities.append(quantity)\n",
    "            gifts.append(gift)\n",
    "            prices_sapo.append(price_sapo)\n",
    "            prices.append(price)\n",
    "            prices_before_tax.append(price_before_tax)\n",
    "            stocks.append(stock)\n",
    "            discount_sales.append(discount_sale)\n",
    "            discount_gifts.append(discount_gift)\n",
    "            totals.append(total)\n",
    "            unit_prices.append(unit_price)\n",
    "            paids.append(paid)\n",
    "            notes.append(\"\")\n",
    "            insert_order_database(created_date, code, customer_code, customer_name, sku, product_name, lots_number, lots_date, unit, quantity, gift, price_sapo, price, price_before_tax, stock, discount_sale, discount_gift, total, unit_price, paid, \"\")"
   ],
   "outputs": [
    {
     "ename": "NameError",
     "evalue": "name 'data' is not defined",
     "output_type": "error",
     "traceback": [
      "\u001B[1;31m---------------------------------------------------------------------------\u001B[0m",
      "\u001B[1;31mNameError\u001B[0m                                 Traceback (most recent call last)",
      "Cell \u001B[1;32mIn[7], line 1\u001B[0m\n\u001B[1;32m----> 1\u001B[0m \u001B[38;5;28;01mfor\u001B[39;00m order \u001B[38;5;129;01min\u001B[39;00m \u001B[43mdata\u001B[49m[\u001B[38;5;124m\"\u001B[39m\u001B[38;5;124morders\u001B[39m\u001B[38;5;124m\"\u001B[39m]:\n\u001B[0;32m      2\u001B[0m     \u001B[38;5;28;01mif\u001B[39;00m order[\u001B[38;5;124m\"\u001B[39m\u001B[38;5;124mlocation_id\u001B[39m\u001B[38;5;124m\"\u001B[39m] \u001B[38;5;241m!=\u001B[39m \u001B[38;5;241m598184\u001B[39m:\n\u001B[0;32m      3\u001B[0m         \u001B[38;5;28;01mcontinue\u001B[39;00m\n",
      "\u001B[1;31mNameError\u001B[0m: name 'data' is not defined"
     ]
    }
   ],
   "execution_count": 7
  },
  {
   "cell_type": "code",
   "id": "3ff96446-b6dc-46cf-8559-9765a0190980",
   "metadata": {
    "ExecuteTime": {
     "end_time": "2024-09-30T14:09:55.158508Z",
     "start_time": "2024-09-30T14:09:55.113246Z"
    }
   },
   "source": [
    "\n",
    "data = {\n",
    "    \"created_on\": created_ons,\n",
    "    \"code\": codes,\n",
    "    \"customer_code\": customer_codes,\n",
    "    \"customer_name\": customer_names,\n",
    "    \"sku\": skus,\n",
    "    \"product_name\": product_names,\n",
    "    \"lots_number\": lots_numbers,\n",
    "    \"date\": dates,\n",
    "    \"unit\": units,\n",
    "    \"quantity\": quantities,\n",
    "    \"gift\": gifts,\n",
    "    \"price_sapo\": prices_sapo,\n",
    "    \"price\": prices,\n",
    "    \"price_before_tax\": prices_before_tax,\n",
    "    \"stock\": stocks,\n",
    "    \"discount_sale\": discount_sales,\n",
    "    \"discount_gift\": discount_gifts,\n",
    "    \"total\": totals,\n",
    "    \"unit_price\": unit_prices,\n",
    "    \"paid\": paids,\n",
    "    \"note\": notes\n",
    "}\n",
    "\n",
    "# Create a DataFrame\n",
    "df = pd.DataFrame(data)"
   ],
   "outputs": [],
   "execution_count": 231
  },
  {
   "cell_type": "code",
   "id": "569baf59-98a6-41d9-accc-06880d1ef105",
   "metadata": {
    "ExecuteTime": {
     "end_time": "2024-09-30T14:09:55.990973Z",
     "start_time": "2024-09-30T14:09:55.963938Z"
    }
   },
   "source": [
    "df.to_csv('output.csv', index=False)"
   ],
   "outputs": [],
   "execution_count": 232
  },
  {
   "cell_type": "code",
   "id": "557c3732-92fa-4a5d-b558-fc0ab1ef1b86",
   "metadata": {
    "ExecuteTime": {
     "end_time": "2024-10-02T13:22:11.398051Z",
     "start_time": "2024-10-02T13:22:11.387189Z"
    }
   },
   "source": "mydb.close()",
   "outputs": [],
   "execution_count": 8
  },
  {
   "metadata": {},
   "cell_type": "code",
   "outputs": [],
   "execution_count": null,
   "source": "",
   "id": "755abb017ebbea2e"
  }
 ],
 "metadata": {
  "kernelspec": {
   "display_name": "Python 3 (ipykernel)",
   "language": "python",
   "name": "python3"
  },
  "language_info": {
   "codemirror_mode": {
    "name": "ipython",
    "version": 3
   },
   "file_extension": ".py",
   "mimetype": "text/x-python",
   "name": "python",
   "nbconvert_exporter": "python",
   "pygments_lexer": "ipython3",
   "version": "3.12.3"
  }
 },
 "nbformat": 4,
 "nbformat_minor": 5
}
